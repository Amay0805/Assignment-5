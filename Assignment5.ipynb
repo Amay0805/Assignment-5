{
 "cells": [
  {
   "cell_type": "code",
   "execution_count": 107,
   "id": "17d01f4d-1cdb-498a-9647-f611775efdc3",
   "metadata": {},
   "outputs": [
    {
     "name": "stdout",
     "output_type": "stream",
     "text": [
      "1\n",
      "2\n",
      "3\n",
      "4\n",
      "5\n",
      "6\n",
      "7\n",
      "8\n",
      "9\n",
      "10\n"
     ]
    }
   ],
   "source": [
    "# for loop\n",
    "# 1\n",
    "# Write a Python program to print numbers from 1 to 10 using a for loop.\n",
    "for i in range(1,11):\n",
    "    print(i)"
   ]
  },
  {
   "cell_type": "code",
   "execution_count": 2,
   "id": "67d030ca-f5df-4513-b5d7-7e8f01ec46f0",
   "metadata": {},
   "outputs": [],
   "source": [
    "# 2\n",
    "# Explain the difference between a for loop and a while loop in Python.\n",
    "\n",
    "# For loop\n",
    "# For loop iterates over a range.\n",
    "# We can set jumping index over a range in the for loop.\n",
    "\n",
    "# While loop\n",
    "# While loop works till the specified condition meets our requirement.\n",
    "# We can set multiple requirements at the same time as the conditions of while loop using and, or keywords."
   ]
  },
  {
   "cell_type": "code",
   "execution_count": 3,
   "id": "88ceeb5a-53d5-4682-877e-5791c91cc816",
   "metadata": {},
   "outputs": [
    {
     "name": "stdout",
     "output_type": "stream",
     "text": [
      "5050.0\n"
     ]
    }
   ],
   "source": [
    "# 3\n",
    "# Write a Python program to calculate the sum of all numbers from 1 to 100 using a for loop.\n",
    "\n",
    "n = 100\n",
    "print(n*(n+1)/2)"
   ]
  },
  {
   "cell_type": "code",
   "execution_count": 4,
   "id": "72223d96-5998-4c86-aa98-17883cfad23b",
   "metadata": {},
   "outputs": [
    {
     "name": "stdout",
     "output_type": "stream",
     "text": [
      "1\n",
      "2\n",
      "3\n",
      "4\n",
      "5\n"
     ]
    }
   ],
   "source": [
    "# 4\n",
    "# How do you iterate through a list using a for loop in Python?\n",
    "\n",
    "my_list = [1, 2, 3, 4, 5]\n",
    "\n",
    "for item in my_list:\n",
    "    print(item)"
   ]
  },
  {
   "cell_type": "code",
   "execution_count": 5,
   "id": "a48a313b-56e8-4a1c-b37a-523eecbb308e",
   "metadata": {},
   "outputs": [
    {
     "name": "stdout",
     "output_type": "stream",
     "text": [
      "Product of all elements in the list: 120\n"
     ]
    }
   ],
   "source": [
    "# 5\n",
    "def product_of_list(lst):\n",
    "    product = 1\n",
    "    for num in lst:\n",
    "        product *= num\n",
    "    return product\n",
    "\n",
    "my_list = [1, 2, 3, 4, 5]\n",
    "result = product_of_list(my_list)\n",
    "print(\"Product of all elements in the list:\", result)"
   ]
  },
  {
   "cell_type": "code",
   "execution_count": 6,
   "id": "dcb88026-4039-40a2-ad96-b02aeee7c748",
   "metadata": {},
   "outputs": [
    {
     "name": "stdout",
     "output_type": "stream",
     "text": [
      "Even numbers from 1 to 20:\n",
      "2\n",
      "4\n",
      "6\n",
      "8\n",
      "10\n",
      "12\n",
      "14\n",
      "16\n",
      "18\n",
      "20\n",
      "\n"
     ]
    }
   ],
   "source": [
    "# 6\n",
    "# Create a Python program that prints all even numbers from 1 to 20 using a for loop.\n",
    "\n",
    "print(\"Even numbers from 1 to 20:\")\n",
    "for i in range(2, 21, 2):\n",
    "    print(i)\n",
    "print()"
   ]
  },
  {
   "cell_type": "code",
   "execution_count": 7,
   "id": "d72ed85f-b136-4a1a-ac6a-ffa4c1ab6c31",
   "metadata": {},
   "outputs": [
    {
     "name": "stdout",
     "output_type": "stream",
     "text": [
      "Factorial of 5 is: 120\n"
     ]
    }
   ],
   "source": [
    "# 7\n",
    "# Write a Python program that calculates the factorial of a number using a for loop.\n",
    "\n",
    "def factorial(n):\n",
    "    fact = 1\n",
    "    for i in range(1, n + 1):\n",
    "        fact *= i\n",
    "    \n",
    "    return fact\n",
    "\n",
    "num = 5\n",
    "result = factorial(num)\n",
    "print(\"Factorial of\", num, \"is:\", result)"
   ]
  },
  {
   "cell_type": "code",
   "execution_count": 8,
   "id": "6c601859-2959-4fc9-bc72-c6602ba532cf",
   "metadata": {},
   "outputs": [
    {
     "name": "stdout",
     "output_type": "stream",
     "text": [
      "Characters of the string:\n",
      "H\n",
      "e\n",
      "l\n",
      "l\n",
      "o\n"
     ]
    }
   ],
   "source": [
    "# 8\n",
    "#How can you iterate through the characters of a string using a for loop in Python?\n",
    "\n",
    "my_string = \"Hello\"\n",
    "print(\"Characters of the string:\")\n",
    "for char in my_string:\n",
    "    print(char)"
   ]
  },
  {
   "cell_type": "code",
   "execution_count": 9,
   "id": "7fd1c058-28ea-4ad7-807e-a06d18c2e917",
   "metadata": {},
   "outputs": [
    {
     "name": "stdout",
     "output_type": "stream",
     "text": [
      "The largest number in the list is: 30\n"
     ]
    }
   ],
   "source": [
    "# 9\n",
    "# Write a Python program to find the largest number in a list using a for loop.\n",
    "\n",
    "def find_largest_number(lst):\n",
    "    largest = lst[0]\n",
    "    for num in lst:\n",
    "        if num > largest:\n",
    "            largest = num\n",
    "    return largest\n",
    "numbers = [10, 20, 5, 30, 15]\n",
    "largest_num = find_largest_number(numbers)\n",
    "print(\"The largest number in the list is:\", largest_num)\n"
   ]
  },
  {
   "cell_type": "code",
   "execution_count": 10,
   "id": "dc9766ff-2b75-4f35-9ac4-228f8c44c476",
   "metadata": {},
   "outputs": [
    {
     "name": "stdout",
     "output_type": "stream",
     "text": [
      "Fibonacci sequence up to limit 100 : [0, 1, 1, 2, 3, 5, 8, 13, 21, 34, 55, 89]\n"
     ]
    }
   ],
   "source": [
    "# 10\n",
    "# Create a Python program that prints the Fibonacci sequence up to a specified limit using a for loop.\n",
    "\n",
    "def fibonacci_sequence(limit):\n",
    "    fib_sequence = [0, 1]\n",
    "    for i in range(2, limit):\n",
    "        next_num = fib_sequence[-1] + fib_sequence[-2]\n",
    "        if next_num <= limit:\n",
    "            fib_sequence.append(next_num)\n",
    "        else:\n",
    "            break\n",
    "    return fib_sequence\n",
    "limit = 100\n",
    "sequence = fibonacci_sequence(limit)\n",
    "print(\"Fibonacci sequence up to limit\", limit, \":\", sequence)"
   ]
  },
  {
   "cell_type": "code",
   "execution_count": 11,
   "id": "d37fcf04-0b96-438d-836a-b6438c0a3ad1",
   "metadata": {},
   "outputs": [
    {
     "name": "stdout",
     "output_type": "stream",
     "text": [
      "Number of vowels in the string: 3\n"
     ]
    }
   ],
   "source": [
    "# 11\n",
    "# Write a Python program to count the number of vowels in a given string using a for loop.\n",
    "\n",
    "def count_vowels(string):\n",
    "    vowels = {'a', 'e', 'i', 'o', 'u'}\n",
    "    vowel_count = 0\n",
    "    for char in string:\n",
    "        if char.lower() in vowels:\n",
    "            vowel_count += 1\n",
    "    return vowel_count\n",
    "\n",
    "input_string = \"Hello World\"\n",
    "result = count_vowels(input_string)\n",
    "print(\"Number of vowels in the string:\", result)"
   ]
  },
  {
   "cell_type": "code",
   "execution_count": 12,
   "id": "d3aeba68-9024-4edc-85e6-caa6f6f4e555",
   "metadata": {},
   "outputs": [
    {
     "name": "stdout",
     "output_type": "stream",
     "text": [
      "Multiplication table for 7:\n",
      "7 x 1 = 7\n",
      "7 x 2 = 14\n",
      "7 x 3 = 21\n",
      "7 x 4 = 28\n",
      "7 x 5 = 35\n",
      "7 x 6 = 42\n",
      "7 x 7 = 49\n",
      "7 x 8 = 56\n",
      "7 x 9 = 63\n",
      "7 x 10 = 70\n"
     ]
    }
   ],
   "source": [
    "# 12\n",
    "# Create a Python program that generates a multiplication table for a given number using a for loop.\n",
    "\n",
    "def multiplication_table(number):\n",
    "    print(f\"Multiplication table for {number}:\")\n",
    "    for i in range(1, 11):\n",
    "        result = number * i\n",
    "        print(f\"{number} x {i} = {result}\")\n",
    "num = 7\n",
    "multiplication_table(num)"
   ]
  },
  {
   "cell_type": "code",
   "execution_count": 13,
   "id": "3fac6bfe-7434-410f-ab2d-0a2144763394",
   "metadata": {},
   "outputs": [
    {
     "name": "stdout",
     "output_type": "stream",
     "text": [
      "Original list: [1, 2, 3, 4, 5]\n",
      "Reversed list: [5, 4, 3, 2, 1]\n"
     ]
    }
   ],
   "source": [
    "# 13\n",
    "# Write a Python program to reverse a list using a for loop.\n",
    "\n",
    "def reverse_list(lst):\n",
    "    reversed_lst = []\n",
    "    for i in range(len(lst) - 1, -1, -1):\n",
    "        reversed_lst.append(lst[i])\n",
    "    return reversed_lst\n",
    "\n",
    "original_list = [1, 2, 3, 4, 5]\n",
    "reversed_list = reverse_list(original_list)\n",
    "print(\"Original list:\", original_list)\n",
    "print(\"Reversed list:\", reversed_list)\n"
   ]
  },
  {
   "cell_type": "code",
   "execution_count": 14,
   "id": "98ae204d-514c-4a69-864f-56e68fb8fc1d",
   "metadata": {},
   "outputs": [
    {
     "name": "stdout",
     "output_type": "stream",
     "text": [
      "Common elements: [3, 4, 5]\n"
     ]
    }
   ],
   "source": [
    "# 14\n",
    "# Write a Python program to find the common elements between two lists using a for loop.\n",
    "\n",
    "def find_common_elements(list1, list2):\n",
    "    common_elements = []\n",
    "    for element in list1:\n",
    "        if element in list2 and element not in common_elements:\n",
    "            common_elements.append(element)\n",
    "    return common_elements\n",
    "\n",
    "list1 = [1, 2, 3, 4, 5]\n",
    "list2 = [3, 4, 5, 6, 7]\n",
    "common_elements = find_common_elements(list1, list2)\n",
    "print(\"Common elements:\", common_elements)"
   ]
  },
  {
   "cell_type": "code",
   "execution_count": 15,
   "id": "1165fdb1-f564-4c6d-897e-ea7d9c8e986b",
   "metadata": {},
   "outputs": [
    {
     "name": "stdout",
     "output_type": "stream",
     "text": [
      "Key: a , Value: 1\n",
      "Key: b , Value: 2\n",
      "Key: c , Value: 3\n"
     ]
    }
   ],
   "source": [
    "# 15\n",
    "# Explain how to use a for loop to iterate through the keys and values of a dictionary in Python.\n",
    "\n",
    "my_dict = {'a': 1, 'b': 2, 'c': 3}\n",
    "for key, value in my_dict.items():\n",
    "    print(\"Key:\", key, \", Value:\", value)\n"
   ]
  },
  {
   "cell_type": "code",
   "execution_count": 16,
   "id": "a044fca6-b51a-43a1-8f7a-c2aa3ea0e89c",
   "metadata": {},
   "outputs": [
    {
     "name": "stdout",
     "output_type": "stream",
     "text": [
      "GCD of 12 and 18 : 6\n"
     ]
    }
   ],
   "source": [
    "# 16\n",
    "# Write a Python program to find the GCD (Greatest Common Divisor) of two numbers using a for loop.\n",
    "\n",
    "def gcd(a, b):\n",
    "    min_num = min(a, b)\n",
    "    gcd_result = 1\n",
    "    for i in range(1, min_num + 1):\n",
    "        if a % i == 0 and b % i == 0:\n",
    "            gcd_result = i\n",
    "    return gcd_result\n",
    "\n",
    "num1 = 12\n",
    "num2 = 18\n",
    "result = gcd(num1, num2)\n",
    "print(\"GCD of\", num1, \"and\", num2, \":\", result)"
   ]
  },
  {
   "cell_type": "code",
   "execution_count": 17,
   "id": "df2d94d1-d665-4e3d-a48e-11488b22ea22",
   "metadata": {},
   "outputs": [
    {
     "name": "stdout",
     "output_type": "stream",
     "text": [
      "radar is a palindrome.\n"
     ]
    }
   ],
   "source": [
    "# 17\n",
    "# Create a Python program that checks if a string is a palindrome using a for loop.\n",
    "\n",
    "def is_palindrome(s):\n",
    "    s = s.lower()\n",
    "    for i in range(len(s) // 2):\n",
    "        if s[i] != s[-1 - i]:\n",
    "            return False\n",
    "    return True\n",
    "\n",
    "word = \"radar\"\n",
    "result = is_palindrome(word)\n",
    "if result:\n",
    "    print(f\"{word} is a palindrome.\")\n",
    "else:\n",
    "    print(f\"{word} is not a palindrome.\")\n"
   ]
  },
  {
   "cell_type": "code",
   "execution_count": 18,
   "id": "2cf81ef1-c4f4-4dbb-98b2-c44b00689fcf",
   "metadata": {},
   "outputs": [
    {
     "name": "stdout",
     "output_type": "stream",
     "text": [
      "Original list with duplicates: [1, 2, 3, 1, 2, 4, 5, 3]\n",
      "List after removing duplicates: [1, 2, 3, 4, 5]\n"
     ]
    }
   ],
   "source": [
    "# 18\n",
    "# Write a Python program to remove duplicates from a list using a for loop.\n",
    "\n",
    "def remove_duplicates(lst):\n",
    "    unique_list = []\n",
    "    for item in lst:\n",
    "        if item not in unique_list:\n",
    "            unique_list.append(item)\n",
    "    return unique_list\n",
    "\n",
    "duplicate_list = [1, 2, 3, 1, 2, 4, 5, 3]\n",
    "result = remove_duplicates(duplicate_list)\n",
    "print(\"Original list with duplicates:\", duplicate_list)\n",
    "print(\"List after removing duplicates:\", result)"
   ]
  },
  {
   "cell_type": "code",
   "execution_count": 19,
   "id": "2d5695e7-240a-4dd2-b965-c3bf59f70557",
   "metadata": {},
   "outputs": [
    {
     "name": "stdout",
     "output_type": "stream",
     "text": [
      "Original list with duplicates: [1, 2, 3, 1, 2, 4, 5, 3]\n",
      "List after removing duplicates: [1, 2, 3, 4, 5]\n"
     ]
    }
   ],
   "source": [
    "# 19\n",
    "# Create a Python program that counts the number of words in a sentence using a for loop.\n",
    "\n",
    "def remove_duplicates(lst):\n",
    "    unique_list = []\n",
    "    for item in lst:\n",
    "        if item not in unique_list:\n",
    "            unique_list.append(item)\n",
    "    return unique_list\n",
    "\n",
    "duplicate_list = [1, 2, 3, 1, 2, 4, 5, 3]\n",
    "result = remove_duplicates(duplicate_list)\n",
    "print(\"Original list with duplicates:\", duplicate_list)\n",
    "print(\"List after removing duplicates:\", result)"
   ]
  },
  {
   "cell_type": "code",
   "execution_count": 20,
   "id": "e660063d-e45e-4642-8939-5c04b1cd36ee",
   "metadata": {},
   "outputs": [
    {
     "name": "stdout",
     "output_type": "stream",
     "text": [
      "Original list with duplicates: [1, 2, 3, 1, 2, 4, 5, 3]\n",
      "List after removing duplicates: [1, 2, 3, 4, 5]\n"
     ]
    }
   ],
   "source": [
    "# 20\n",
    "# Write a Python program to find the sum of all odd numbers from 1 to 50 using a for loop.\n",
    "\n",
    "def remove_duplicates(lst):\n",
    "    unique_list = []\n",
    "    for item in lst:\n",
    "        if item not in unique_list:\n",
    "            unique_list.append(item)\n",
    "    return unique_list\n",
    "\n",
    "duplicate_list = [1, 2, 3, 1, 2, 4, 5, 3]\n",
    "result = remove_duplicates(duplicate_list)\n",
    "print(\"Original list with duplicates:\", duplicate_list)\n",
    "print(\"List after removing duplicates:\", result)\n"
   ]
  },
  {
   "cell_type": "code",
   "execution_count": 21,
   "id": "8a4d0dd2-5313-4c02-a2c4-f0434d1ce415",
   "metadata": {},
   "outputs": [
    {
     "name": "stdout",
     "output_type": "stream",
     "text": [
      "2024 is a leap year.\n"
     ]
    }
   ],
   "source": [
    "# 21\n",
    "# Write a Python program that checks if a given year is a leap year using a for loop.\n",
    "\n",
    "def is_leap_year(year):\n",
    "    if (year % 4 == 0 and year % 100 != 0) or (year % 400 == 0):\n",
    "        return True\n",
    "    else:\n",
    "        return False\n",
    "\n",
    "year = 2024\n",
    "if is_leap_year(year):\n",
    "    print(year, \"is a leap year.\")\n",
    "else:\n",
    "    print(year, \"is not a leap year.\")\n"
   ]
  },
  {
   "cell_type": "code",
   "execution_count": 22,
   "id": "c1d679f3-d376-4175-9115-47326a826566",
   "metadata": {},
   "outputs": [
    {
     "name": "stdout",
     "output_type": "stream",
     "text": [
      "Square root of 25 is approximately: 5\n"
     ]
    }
   ],
   "source": [
    "# 22\n",
    "# Create a Python program that calculates the square root of a number using a for loop.\n",
    "\n",
    "def square_root(num):\n",
    "    sqrt_guess = 0\n",
    "    for guess in range(int(num) + 1):\n",
    "        if abs(guess * guess - num) < 0.001:\n",
    "            sqrt_guess = guess\n",
    "            break\n",
    "    return sqrt_guess\n",
    "number = 25\n",
    "result = square_root(number)\n",
    "print(\"Square root of\", number, \"is approximately:\", result)\n"
   ]
  },
  {
   "cell_type": "code",
   "execution_count": 23,
   "id": "beb862fe-cce1-401b-8767-8f134d98d336",
   "metadata": {},
   "outputs": [
    {
     "name": "stdout",
     "output_type": "stream",
     "text": [
      "LCM of 12 and 15 is: 60\n"
     ]
    }
   ],
   "source": [
    "# 23\n",
    "# Write a Python program to find the LCM (Least Common Multiple) of two numbers using a for loop.\n",
    "\n",
    "def lcm(num1, num2):\n",
    "    max_num = max(num1, num2)\n",
    "    lcm_result = max_num\n",
    "    for i in range(max_num, num1 * num2 + 1, max_num):\n",
    "        if i % num1 == 0 and i % num2 == 0:\n",
    "            lcm_result = i\n",
    "            break\n",
    "    return lcm_result\n",
    "\n",
    "number1 = 12\n",
    "number2 = 15\n",
    "result = lcm(number1, number2)\n",
    "print(\"LCM of\", number1, \"and\", number2, \"is:\", result)\n"
   ]
  },
  {
   "cell_type": "code",
   "execution_count": 24,
   "id": "7b9c3c79-f4db-42cc-aea0-fb7d0e9cefff",
   "metadata": {},
   "outputs": [
    {
     "name": "stdout",
     "output_type": "stream",
     "text": [
      "The number is positive.\n",
      "The number is negative.\n",
      "The number is zero.\n"
     ]
    }
   ],
   "source": [
    "# if else\n",
    "# 1\n",
    "# Write a Python program to check if a number is positive, negative, or zero using an if-else statement.\n",
    "\n",
    "def check_number(num):\n",
    "    if num > 0:\n",
    "        print(\"The number is positive.\")\n",
    "    elif num < 0:\n",
    "        print(\"The number is negative.\")\n",
    "    else:\n",
    "        print(\"The number is zero.\")\n",
    "\n",
    "number = 5\n",
    "check_number(number)\n",
    "\n",
    "number = -2\n",
    "check_number(number)\n",
    "\n",
    "number = 0\n",
    "check_number(number)\n"
   ]
  },
  {
   "cell_type": "code",
   "execution_count": 25,
   "id": "f2809526-f184-417b-b5a8-cd6456ef5360",
   "metadata": {},
   "outputs": [
    {
     "name": "stdout",
     "output_type": "stream",
     "text": [
      "The number is odd.\n",
      "The number is even.\n"
     ]
    }
   ],
   "source": [
    "# 2\n",
    "# Create a Python program that checks if a given number is even or odd using an if-else statement.\n",
    "\n",
    "def check_even_odd(num):\n",
    "    if num % 2 == 0:\n",
    "        print(\"The number is even.\")\n",
    "    else:\n",
    "        print(\"The number is odd.\")\n",
    "\n",
    "number = 7\n",
    "check_even_odd(number)\n",
    "number = 12\n",
    "check_even_odd(number)"
   ]
  },
  {
   "cell_type": "code",
   "execution_count": 26,
   "id": "539e55fc-9229-4026-a791-97b5fdd4d04e",
   "metadata": {},
   "outputs": [
    {
     "name": "stdout",
     "output_type": "stream",
     "text": [
      "The number is positive.\n",
      "The number is positive and odd.\n",
      "The number is negative.\n",
      "The number is zero.\n"
     ]
    }
   ],
   "source": [
    "# 3\n",
    "# How can you use nested if-else statements in Python, and provide an example?\n",
    "\n",
    "def classify_number(num):\n",
    "    if num > 0:\n",
    "        print(\"The number is positive.\")\n",
    "        if num % 2 == 0:\n",
    "            print(\"The number is positive and even.\")\n",
    "        else:\n",
    "            print(\"The number is positive and odd.\")\n",
    "    elif num < 0:\n",
    "        print(\"The number is negative.\")\n",
    "    else:\n",
    "        print(\"The number is zero.\")\n",
    "\n",
    "number = 7\n",
    "classify_number(number)\n",
    "number = -2\n",
    "classify_number(number)\n",
    "number = 0\n",
    "classify_number(number)\n"
   ]
  },
  {
   "cell_type": "code",
   "execution_count": 27,
   "id": "e4a5e8f9-80ef-44f5-bc2e-b25710ad4ada",
   "metadata": {},
   "outputs": [
    {
     "name": "stdout",
     "output_type": "stream",
     "text": [
      "The largest number among 10 , 25 , and 15 is: 25\n"
     ]
    }
   ],
   "source": [
    "# 4\n",
    "# Write a Python program to determine the largest of three numbers using if-else.\n",
    " \n",
    "def find_largest(num1, num2, num3):\n",
    "    if num1 >= num2 and num1 >= num3:\n",
    "        largest = num1\n",
    "    elif num2 >= num1 and num2 >= num3:\n",
    "        largest = num2\n",
    "    else:\n",
    "        largest = num3\n",
    "    return largest\n",
    "\n",
    "num1 = 10\n",
    "num2 = 25\n",
    "num3 = 15\n",
    "largest_num = find_largest(num1, num2, num3)\n",
    "print(\"The largest number among\", num1, \",\", num2, \", and\", num3, \"is:\", largest_num)\n"
   ]
  },
  {
   "cell_type": "code",
   "execution_count": 28,
   "id": "aa23ff8b-bd47-49cd-9f15-f59a5ab504e8",
   "metadata": {},
   "outputs": [
    {
     "name": "stdout",
     "output_type": "stream",
     "text": [
      "The absolute value of -5 is: 5\n"
     ]
    }
   ],
   "source": [
    "# 5\n",
    "# Write a Python program that calculates the absolute value of a number using if-else.\n",
    "\n",
    "def absolute_value(num):\n",
    "    if num >= 0:\n",
    "        return num\n",
    "    else:\n",
    "        return -num\n",
    "\n",
    "number = -5\n",
    "abs_value = absolute_value(number)\n",
    "print(\"The absolute value of\", number, \"is:\", abs_value)\n"
   ]
  },
  {
   "cell_type": "code",
   "execution_count": 29,
   "id": "2bfea231-8d2d-48ae-ac40-9060cce8c36e",
   "metadata": {},
   "outputs": [
    {
     "name": "stdout",
     "output_type": "stream",
     "text": [
      "The character 'a' is a vowel.\n",
      "The character 'b' is a consonant.\n",
      "The character 'z' is a consonant.\n"
     ]
    }
   ],
   "source": [
    "# 6\n",
    "# Create a Python program that checks if a given character is a vowel or consonant using if-else.\n",
    "\n",
    "def check_vowel_consonant(char):\n",
    "    char = char.lower()\n",
    "    if char in 'aeiou':\n",
    "        print(f\"The character '{char}' is a vowel.\")\n",
    "    else:\n",
    "        print(f\"The character '{char}' is a consonant.\")\n",
    "\n",
    "character = 'a'\n",
    "check_vowel_consonant(character)\n",
    "character = 'B'\n",
    "check_vowel_consonant(character)\n",
    "character = 'z'\n",
    "check_vowel_consonant(character)\n"
   ]
  },
  {
   "cell_type": "code",
   "execution_count": 30,
   "id": "39910014-28b3-4c3d-9158-c04a75cd3fad",
   "metadata": {},
   "outputs": [
    {
     "name": "stdout",
     "output_type": "stream",
     "text": [
      "You are eligible to vote.\n",
      "You are not eligible to vote yet.\n"
     ]
    }
   ],
   "source": [
    "# 7\n",
    "# Write a Python program to determine if a user is eligible to vote based on their age using if-else.\n",
    "\n",
    "def check_voter_eligibility(age):\n",
    "    if age >= 18:\n",
    "        print(\"You are eligible to vote.\")\n",
    "    else:\n",
    "        print(\"You are not eligible to vote yet.\")\n",
    "user_age = 20\n",
    "check_voter_eligibility(user_age)\n",
    "user_age = 16\n",
    "check_voter_eligibility(user_age)"
   ]
  },
  {
   "cell_type": "code",
   "execution_count": 31,
   "id": "432d33ec-0f38-42b6-b52d-b92f5223ab55",
   "metadata": {},
   "outputs": [
    {
     "name": "stdout",
     "output_type": "stream",
     "text": [
      "Discount amount for a purchase of $ 1200 : 120.0\n",
      "Discount amount for a purchase of $ 600 : 30.0\n",
      "Discount amount for a purchase of $ 300 : 0\n"
     ]
    }
   ],
   "source": [
    "# 8\n",
    "# Create a Python program that calculates the discount amount based on the purchase amount using if-else.\n",
    "\n",
    "def calculate_discount(purchase_amount):\n",
    "    if purchase_amount >= 1000:\n",
    "        discount = 0.1 * purchase_amount\n",
    "    elif purchase_amount >= 500:\n",
    "        discount = 0.05 * purchase_amount\n",
    "    else:\n",
    "        discount = 0\n",
    "    return discount\n",
    "\n",
    "amount = 1200\n",
    "discount_amount = calculate_discount(amount)\n",
    "print(\"Discount amount for a purchase of $\", amount, \":\", discount_amount)\n",
    "amount = 600\n",
    "discount_amount = calculate_discount(amount)\n",
    "print(\"Discount amount for a purchase of $\", amount, \":\", discount_amount)\n",
    "amount = 300\n",
    "discount_amount = calculate_discount(amount)\n",
    "print(\"Discount amount for a purchase of $\", amount, \":\", discount_amount)\n"
   ]
  },
  {
   "cell_type": "code",
   "execution_count": 32,
   "id": "3fdb8b17-b939-4471-b108-565a77a2be28",
   "metadata": {},
   "outputs": [
    {
     "name": "stdout",
     "output_type": "stream",
     "text": [
      "The number 15 is within the specified range [10, 20].\n",
      "The number 5 is not within the specified range [10, 20].\n",
      "The number 25 is not within the specified range [10, 20].\n"
     ]
    }
   ],
   "source": [
    "# 9\n",
    "# Write a Python program to check if a number is within a specified range using if-else.\n",
    "\n",
    "def check_within_range(number, start, end):\n",
    "    if start <= number <= end:\n",
    "        print(f\"The number {number} is within the specified range [{start}, {end}].\")\n",
    "    else:\n",
    "        print(f\"The number {number} is not within the specified range [{start}, {end}].\")\n",
    "\n",
    "number = 15\n",
    "start_range = 10\n",
    "end_range = 20\n",
    "check_within_range(number, start_range, end_range)\n",
    "number = 5\n",
    "start_range = 10\n",
    "end_range = 20\n",
    "check_within_range(number, start_range, end_range)\n",
    "number = 25\n",
    "start_range = 10\n",
    "end_range = 20\n",
    "check_within_range(number, start_range, end_range)"
   ]
  },
  {
   "cell_type": "code",
   "execution_count": 33,
   "id": "57619735-9ac8-422a-8c02-dbda51ad412d",
   "metadata": {},
   "outputs": [
    {
     "name": "stdout",
     "output_type": "stream",
     "text": [
      "The grade for the student with a score of 85 is: B\n",
      "The grade for the student with a score of 60 is: D\n",
      "The grade for the student with a score of 75 is: C\n"
     ]
    }
   ],
   "source": [
    "# 10\n",
    "# Create a Python program that determines the grade of a student based on their score using if-else.\n",
    "def calculate_grade(score):\n",
    "    if score >= 90:\n",
    "        grade = 'A'\n",
    "    elif score >= 80:\n",
    "        grade = 'B'\n",
    "    elif score >= 70:\n",
    "        grade = 'C'\n",
    "    elif score >= 60:\n",
    "        grade = 'D'\n",
    "    else:\n",
    "        grade = 'F'\n",
    "    return grade\n",
    "\n",
    "student_score = 85\n",
    "student_grade = calculate_grade(student_score)\n",
    "print(\"The grade for the student with a score of\", student_score, \"is:\", student_grade)\n",
    "student_score = 60\n",
    "student_grade = calculate_grade(student_score)\n",
    "print(\"The grade for the student with a score of\", student_score, \"is:\", student_grade)\n",
    "student_score = 75\n",
    "student_grade = calculate_grade(student_score)\n",
    "print(\"The grade for the student with a score of\", student_score, \"is:\", student_grade)"
   ]
  },
  {
   "cell_type": "code",
   "execution_count": 34,
   "id": "bda1ba69-7f8b-4bf1-af75-8037a341e071",
   "metadata": {},
   "outputs": [
    {
     "name": "stdout",
     "output_type": "stream",
     "text": [
      "The string is not empty.\n",
      "The string is empty.\n"
     ]
    }
   ],
   "source": [
    "# 11\n",
    "# Write a Python program to check if a string is empty or not using if-else.\n",
    "\n",
    "def check_string_empty(string):\n",
    "    if string:\n",
    "        print(\"The string is not empty.\")\n",
    "    else:\n",
    "        print(\"The string is empty.\")\n",
    "\n",
    "string1 = \"Hello, World!\"\n",
    "check_string_empty(string1)\n",
    "string2 = \"\"\n",
    "check_string_empty(string2)"
   ]
  },
  {
   "cell_type": "code",
   "execution_count": 35,
   "id": "51ad802b-2d80-4fb6-a001-8b5ea620ed6e",
   "metadata": {},
   "outputs": [
    {
     "name": "stdout",
     "output_type": "stream",
     "text": [
      "Triangle with sides 5 , 5 , and 5 is: Equilateral triangle\n",
      "Triangle with sides 4 , 4 , and 6 is: Isosceles triangle\n",
      "Triangle with sides 3 , 4 , and 5 is: Scalene triangle\n"
     ]
    }
   ],
   "source": [
    "# 12\n",
    "# Create a Python program that identifies the type of a triangle (e.g., equilateral, isosceles, or scalene) based on input values using if-else.\n",
    "\n",
    "def triangle_type(side1, side2, side3):\n",
    "    if side1 == side2 == side3:\n",
    "        return \"Equilateral triangle\"\n",
    "    elif side1 == side2 or side1 == side3 or side2 == side3:\n",
    "        return \"Isosceles triangle\"\n",
    "    else:\n",
    "        return \"Scalene triangle\"\n",
    "\n",
    "side1 = 5\n",
    "side2 = 5\n",
    "side3 = 5\n",
    "print(\"Triangle with sides\", side1, \",\", side2, \", and\", side3, \"is:\", triangle_type(side1, side2, side3))\n",
    "side1 = 4\n",
    "side2 = 4\n",
    "side3 = 6\n",
    "print(\"Triangle with sides\", side1, \",\", side2, \", and\", side3, \"is:\", triangle_type(side1, side2, side3))\n",
    "side1 = 3\n",
    "side2 = 4\n",
    "side3 = 5\n",
    "print(\"Triangle with sides\", side1, \",\", side2, \", and\", side3, \"is:\", triangle_type(side1, side2, side3))"
   ]
  },
  {
   "cell_type": "code",
   "execution_count": 36,
   "id": "646248af-f3d7-4e3b-a105-e16a8972866d",
   "metadata": {},
   "outputs": [
    {
     "name": "stdout",
     "output_type": "stream",
     "text": [
      "The day of the week corresponding to the number 1 is: Monday\n"
     ]
    }
   ],
   "source": [
    "# 13\n",
    "# Write a Python program to determine the day of the week based on a user-provided number using if-else.\n",
    "\n",
    "def determine_day_of_week(day_number):\n",
    "    if day_number == 1:\n",
    "        return \"Monday\"\n",
    "    elif day_number == 2:\n",
    "        return \"Tuesday\"\n",
    "    elif day_number == 3:\n",
    "        return \"Wednesday\"\n",
    "    elif day_number == 4:\n",
    "        return \"Thursday\"\n",
    "    elif day_number == 5:\n",
    "        return \"Friday\"\n",
    "    elif day_number == 6:\n",
    "        return \"Saturday\"\n",
    "    elif day_number == 7:\n",
    "        return \"Sunday\"\n",
    "    else:\n",
    "        return \"Invalid day number\"\n",
    "\n",
    "user_input = 1 #int(input(\"Enter a number (1-7) to determine the day of the week: \"))\n",
    "day_of_week = determine_day_of_week(user_input)\n",
    "print(\"The day of the week corresponding to the number\", user_input, \"is:\", day_of_week)\n"
   ]
  },
  {
   "cell_type": "code",
   "execution_count": 37,
   "id": "d5479dcb-f772-4ad5-9cfb-a843a02e1fc7",
   "metadata": {},
   "outputs": [
    {
     "name": "stdout",
     "output_type": "stream",
     "text": [
      "True\n"
     ]
    }
   ],
   "source": [
    "# 14\n",
    "# Create a Python program that checks if a given year is a leap year using both if-else and a function.\n",
    "\n",
    "def is_leap_year(year):\n",
    "    if (year % 4 == 0 and year % 100 != 0) or (year % 400 == 0):\n",
    "        return True\n",
    "    else:\n",
    "        return False\n",
    "\n",
    "input_year = 2024 # take this input from the user\n",
    "print(is_leap_year(input_year))"
   ]
  },
  {
   "cell_type": "code",
   "execution_count": 38,
   "id": "708e32d0-6d18-4b00-b61e-3542cb4af981",
   "metadata": {},
   "outputs": [
    {
     "name": "stdout",
     "output_type": "stream",
     "text": [
      "Discount amount for a purchase of $ 1200 : 120.0\n"
     ]
    }
   ],
   "source": [
    "# 15\n",
    "# How do you use the \"assert\" statement in Python to add debugging checks within if-else blocks?\n",
    "\n",
    "def calculate_discount(purchase_amount):\n",
    "    if purchase_amount >= 1000:\n",
    "        discount = 0.1 * purchase_amount\n",
    "    elif purchase_amount >= 500:\n",
    "        discount = 0.05 * purchase_amount\n",
    "    else:\n",
    "        discount = 0\n",
    "    \n",
    "    # Add assert statements for debugging checks\n",
    "    assert discount >= 0, \"Discount should not be negative\"\n",
    "    assert discount <= purchase_amount, \"Discount should not exceed purchase amount\"\n",
    "    \n",
    "    return discount\n",
    "\n",
    "amount = 1200\n",
    "discount_amount = calculate_discount(amount)\n",
    "print(\"Discount amount for a purchase of $\", amount, \":\", discount_amount)\n"
   ]
  },
  {
   "cell_type": "code",
   "execution_count": 39,
   "id": "9bf90678-73e8-4880-b857-ed532309704f",
   "metadata": {},
   "outputs": [
    {
     "name": "stdout",
     "output_type": "stream",
     "text": [
      "You are eligible for a senior citizen discount.\n",
      "You are not eligible for a senior citizen discount.\n"
     ]
    }
   ],
   "source": [
    "# 16\n",
    "# Create a Python program that determines the eligibility of a person for a senior citizen discount based on age using if-else.\n",
    "\n",
    "def check_senior_discount(age):\n",
    "    if age >= 60:\n",
    "        print(\"You are eligible for a senior citizen discount.\")\n",
    "    else:\n",
    "        print(\"You are not eligible for a senior citizen discount.\")\n",
    "\n",
    "person_age = 65\n",
    "check_senior_discount(person_age)\n",
    "person_age = 55\n",
    "check_senior_discount(person_age)\n"
   ]
  },
  {
   "cell_type": "code",
   "execution_count": 40,
   "id": "9499ca80-305b-40a9-9b99-251fd1d3ef3b",
   "metadata": {},
   "outputs": [
    {
     "name": "stdout",
     "output_type": "stream",
     "text": [
      "The character 'A' is uppercase.\n",
      "The character 'b' is lowercase.\n",
      "The character '1' is neither uppercase nor lowercase.\n"
     ]
    }
   ],
   "source": [
    "# 17\n",
    "# Write a Python program to categorize a given character as uppercase, lowercase, or neither using if-else.\n",
    "\n",
    "def categorize_character(char):\n",
    "    if char.isupper():\n",
    "        print(f\"The character '{char}' is uppercase.\")\n",
    "    elif char.islower():\n",
    "        print(f\"The character '{char}' is lowercase.\")\n",
    "    else:\n",
    "        print(f\"The character '{char}' is neither uppercase nor lowercase.\")\n",
    "\n",
    "character = 'A'\n",
    "categorize_character(character)\n",
    "character = 'b'\n",
    "categorize_character(character)\n",
    "character = '1'\n",
    "categorize_character(character)"
   ]
  },
  {
   "cell_type": "code",
   "execution_count": 41,
   "id": "ead1e371-5c14-4ff1-b335-274be8a14909",
   "metadata": {},
   "outputs": [
    {
     "name": "stdout",
     "output_type": "stream",
     "text": [
      "The roots of the quadratic equation are real and distinct.\n",
      "Root 1: 2.0\n",
      "Root 2: 1.0\n"
     ]
    }
   ],
   "source": [
    "# 18\n",
    "# Write a Python program to determine the roots of a quadratic equation using if-else.\n",
    "\n",
    "def find_roots(a, b, c):\n",
    "    discriminant = b**2 - 4*a*c\n",
    "    if discriminant > 0:\n",
    "        root1 = (-b + (discriminant ** 0.5)) / (2*a)\n",
    "        root2 = (-b - (discriminant ** 0.5)) / (2*a)\n",
    "        print(\"The roots of the quadratic equation are real and distinct.\")\n",
    "        print(\"Root 1:\", root1)\n",
    "        print(\"Root 2:\", root2)\n",
    "    elif discriminant == 0:\n",
    "        root = -b / (2*a)\n",
    "        print(\"The roots of the quadratic equation are real and equal.\")\n",
    "        print(\"Root:\", root)\n",
    "    else:\n",
    "        real_part = -b / (2*a)\n",
    "        imaginary_part = ((-discriminant) ** 0.5) / (2*a)\n",
    "        print(\"The roots of the quadratic equation are complex.\")\n",
    "        print(\"Root 1:\", real_part, \"+\", imaginary_part, \"i\")\n",
    "        print(\"Root 2:\", real_part, \"-\", imaginary_part, \"i\")\n",
    "\n",
    "a = 1\n",
    "b = -3\n",
    "c = 2\n",
    "find_roots(a, b, c)\n"
   ]
  },
  {
   "cell_type": "code",
   "execution_count": 42,
   "id": "8c8a1a10-eaf2-4fb8-8afb-060ac41c442e",
   "metadata": {},
   "outputs": [
    {
     "name": "stdout",
     "output_type": "stream",
     "text": [
      "2000 is a century year.\n",
      "2021 is not a century year.\n"
     ]
    }
   ],
   "source": [
    "# 19\n",
    "# Create a Python program that checks if a given year is a century year or not using if-else.\n",
    "\n",
    "def is_century_year(year):\n",
    "    if year % 100 == 0:\n",
    "        print(year, \"is a century year.\")\n",
    "    else:\n",
    "        print(year, \"is not a century year.\")\n",
    "\n",
    "year = 2000\n",
    "is_century_year(year)\n",
    "year = 2021\n",
    "is_century_year(year)"
   ]
  },
  {
   "cell_type": "code",
   "execution_count": 43,
   "id": "510d1cd2-d28e-4acf-98d3-41cad6f079fe",
   "metadata": {},
   "outputs": [
    {
     "name": "stdout",
     "output_type": "stream",
     "text": [
      "16 is a perfect square.\n",
      "25 is a perfect square.\n",
      "20 is not a perfect square.\n"
     ]
    }
   ],
   "source": [
    "# 20\n",
    "# Write a Python program to determine if a given number is a perfect square using if-else.\n",
    "\n",
    "def is_perfect_square(number):\n",
    "    if number < 0:\n",
    "        return False\n",
    "    elif number == 0 or number == 1:\n",
    "        return True\n",
    "    else:\n",
    "        left, right = 0, number\n",
    "        while left <= right:\n",
    "            mid = (left + right) // 2\n",
    "            square = mid * mid\n",
    "            if square == number:\n",
    "                return True\n",
    "            elif square < number:\n",
    "                left = mid + 1\n",
    "            else:\n",
    "                right = mid - 1\n",
    "        return False\n",
    "\n",
    "num = 16\n",
    "if is_perfect_square(num):\n",
    "    print(num, \"is a perfect square.\")\n",
    "else:\n",
    "    print(num, \"is not a perfect square.\")\n",
    "num = 25\n",
    "if is_perfect_square(num):\n",
    "    print(num, \"is a perfect square.\")\n",
    "else:\n",
    "    print(num, \"is not a perfect square.\")\n",
    "num = 20\n",
    "if is_perfect_square(num):\n",
    "    print(num, \"is a perfect square.\")\n",
    "else:\n",
    "    print(num, \"is not a perfect square.\")"
   ]
  },
  {
   "cell_type": "code",
   "execution_count": 44,
   "id": "c34d5d48-c1dc-48c5-998a-3215fa88160c",
   "metadata": {},
   "outputs": [
    {
     "name": "stdout",
     "output_type": "stream",
     "text": [
      "This is an example of the continue statement\n",
      "1\n",
      "3\n",
      "5\n",
      "7\n",
      "9\n",
      "\n",
      "This is an example of the break statement\n",
      "1\n",
      "2\n",
      "3\n",
      "4\n"
     ]
    }
   ],
   "source": [
    "# 21\n",
    "# Explain the purpose of the \"continue\" and \"break\" statements within if-else loops.\n",
    "\n",
    "# continue statement\n",
    "# The purpose of the continue statement is to skip the rest of the current iteration of the loop and move to the next iteration.\n",
    "# Example\n",
    "print(\"This is an example of the continue statement\")\n",
    "for i in range(1, 11):\n",
    "    if i % 2 == 0:\n",
    "        continue  # Skip even numbers\n",
    "    print(i)\n",
    "print()\n",
    "\n",
    "# break statement\n",
    "# The purpose of the break statement is to terminate the loop whenever a specific condition as per our requirement matches, causing an immediate exit from the loop.\n",
    "print(\"This is an example of the break statement\")\n",
    "for i in range(1, 11):\n",
    "    if i == 5:\n",
    "        break  # Stop the loop when i equals 5\n",
    "    print(i)"
   ]
  },
  {
   "cell_type": "code",
   "execution_count": 45,
   "id": "fc6f2a73-46b6-4983-82a9-6bae9fb938ae",
   "metadata": {},
   "outputs": [
    {
     "name": "stdout",
     "output_type": "stream",
     "text": [
      "Your BMI is: 26.038378992551444\n",
      "You are classified as: Overweight\n"
     ]
    }
   ],
   "source": [
    "# 22\n",
    "# Create a Python program that calculates the BMI (Body Mass Index) of a person based on their weight and height using if-else.\n",
    "\n",
    "def calculate_bmi(weight_kg, height_m):\n",
    "    bmi = weight_kg / (height_m ** 2)\n",
    "    return bmi\n",
    "\n",
    "def interpret_bmi(bmi):\n",
    "    if bmi < 18.5:\n",
    "        return \"Underweight\"\n",
    "    elif 18.5 <= bmi < 25:\n",
    "        return \"Normal weight\"\n",
    "    elif 25 <= bmi < 30:\n",
    "        return \"Overweight\"\n",
    "    else:\n",
    "        return \"Obese\"\n",
    "    \n",
    "weight = 82.5 #float(input(\"Enter your weight in kilograms: \"))\n",
    "height = 1.78 #float(input(\"Enter your height in meters: \"))\n",
    "bmi = calculate_bmi(weight, height)\n",
    "print(\"Your BMI is:\", bmi)\n",
    "bmi_category = interpret_bmi(bmi)\n",
    "print(\"You are classified as:\", bmi_category)"
   ]
  },
  {
   "cell_type": "code",
   "execution_count": 46,
   "id": "269a1b62-bbdf-406f-a7a5-1391e41a1564",
   "metadata": {},
   "outputs": [
    {
     "name": "stdout",
     "output_type": "stream",
     "text": [
      "Filtered numbers (even): [2, 4, 6, 8, 10]\n"
     ]
    }
   ],
   "source": [
    "# 23\n",
    "# How can you use the \"filter()\" function with if-else statements to filter elements from a list?\n",
    "\n",
    "# Custom function to filter even numbers\n",
    "def filter_even(num):\n",
    "    if num % 2 == 0:\n",
    "        return True\n",
    "    else:\n",
    "        return False\n",
    "\n",
    "# Example list\n",
    "numbers = [1, 2, 3, 4, 5, 6, 7, 8, 9, 10]\n",
    "filtered_numbers = filter(filter_even, numbers)\n",
    "filtered_numbers_list = list(filtered_numbers)\n",
    "print(\"Filtered numbers (even):\", filtered_numbers_list)"
   ]
  },
  {
   "cell_type": "code",
   "execution_count": 47,
   "id": "a8a3fa4c-d749-4275-a312-d3d76e67673f",
   "metadata": {},
   "outputs": [
    {
     "name": "stdout",
     "output_type": "stream",
     "text": [
      "11 is a prime number.\n"
     ]
    }
   ],
   "source": [
    "# 24\n",
    "# Write a Python program to determine if a given number is prime or not using if-else.\n",
    "\n",
    "def is_prime(number):\n",
    "    if number <= 1:\n",
    "        return False\n",
    "    for i in range(2, int(number**0.5) + 1):\n",
    "        if number % i == 0:\n",
    "            return False\n",
    "    \n",
    "    return True\n",
    "\n",
    "num = 11 #int(input(\"Enter a number to check if it's prime: \"))\n",
    "if is_prime(num):\n",
    "    print(num, \"is a prime number.\")\n",
    "else:\n",
    "    print(num, \"is not a prime number.\")"
   ]
  },
  {
   "cell_type": "code",
   "execution_count": 48,
   "id": "8e402185-6ed0-4909-83e2-c243ae6b72a6",
   "metadata": {},
   "outputs": [
    {
     "name": "stdout",
     "output_type": "stream",
     "text": [
      "Original numbers: [1, 2, 3, 4, 5]\n",
      "Squared numbers: [1, 4, 9, 16, 25]\n"
     ]
    }
   ],
   "source": [
    "# Map function\n",
    "# 1\n",
    "# Explain the purpose of the `map()` function in Python and provide an example of how it can be used to apply a function to each element of an iterable.\n",
    "\n",
    "# he map() function in Python is used to apply a specified function to each item in an iterable (such as a list, tuple, or set)\n",
    "# and returns an iterator that yields the results. The purpose of the map() function is to transform data by applying a function\n",
    "# to each element of the iterable, without the need for explicit looping.\n",
    "# Example\n",
    "\n",
    "def square(x):\n",
    "    return x ** 2\n",
    "\n",
    "numbers = [1, 2, 3, 4, 5]\n",
    "squared_numbers = map(square, numbers)\n",
    "squared_numbers_list = list(squared_numbers)\n",
    "print(\"Original numbers:\", numbers)\n",
    "print(\"Squared numbers:\", squared_numbers_list)"
   ]
  },
  {
   "cell_type": "code",
   "execution_count": 49,
   "id": "18fd22a6-5867-4a09-bbc5-b8cc0a3e27bd",
   "metadata": {},
   "outputs": [
    {
     "name": "stdout",
     "output_type": "stream",
     "text": [
      "Original numbers: [1, 2, 3, 4, 5]\n",
      "Squared numbers: [1, 4, 9, 16, 25]\n"
     ]
    }
   ],
   "source": [
    "# 2\n",
    "# Write a Python program that uses the `map()` function to square each element of a list of numbers.\n",
    "\n",
    "numbers = [1, 2, 3, 4, 5]\n",
    "def square(x):\n",
    "    return x ** 2\n",
    "squared_numbers = map(square, numbers)\n",
    "squared_numbers_list = list(squared_numbers)\n",
    "print(\"Original numbers:\", numbers)\n",
    "print(\"Squared numbers:\", squared_numbers_list)"
   ]
  },
  {
   "cell_type": "code",
   "execution_count": 50,
   "id": "b98ffe25-fd2f-4b26-8753-8af67d219af2",
   "metadata": {},
   "outputs": [],
   "source": [
    "# 3\n",
    "# How does the `map()` function differ from a list comprehension in Python, and when would you choose one over the other?\n",
    "\n",
    "# The map() function and list comprehensions are both techniques in Python for applying a transformation to elements in an\n",
    "# iterable (such as a list) and generating a new iterable with the transformed values. However, they have some differences\n",
    "# in syntax, behavior, and use cases:\n",
    "\n",
    "#(1)Syntax:\n",
    "\n",
    "# The map() function takes two arguments: a function and an iterable. It applies the function to each element of the iterable and \n",
    "# returns an iterator that yields the results.\n",
    "# List comprehensions provide a more concise syntax for creating lists by applying an expression to each element of an iterable,\n",
    "# optionally filtering the elements based on a condition.\n",
    "\n",
    "#(2) Readability\n",
    "# List comprehensions are often more readable and intuitive, especially for simple transformations or filtering operations.\n",
    "# The use of map() with a separate function may be less clear, especially if the function being applied is complex or not\n",
    "# defined inline.\n",
    "\n",
    "# (3)Use Cases:\n",
    "# Use map() when you have a specific function that you want to apply to each element of an iterable, especially if the function\n",
    "# is reusable or complex.\n",
    "# Use list comprehensions for simpler transformations or when you want to combine mapping and filtering\n",
    "# operations in a concise and readable way.\n",
    "# List comprehensions are often preferred when the transformation logic is straightforward and can be expressed inline."
   ]
  },
  {
   "cell_type": "code",
   "execution_count": 51,
   "id": "7d8afdf3-6e4c-4a95-90db-137efcff94f9",
   "metadata": {},
   "outputs": [
    {
     "name": "stdout",
     "output_type": "stream",
     "text": [
      "Original names: ['Alice', 'Bob', 'Charlie', 'David', 'Eve']\n",
      "Uppercased names: ['ALICE', 'BOB', 'CHARLIE', 'DAVID', 'EVE']\n"
     ]
    }
   ],
   "source": [
    "# 4\n",
    "# Create a Python program that uses the `map()` function to convert a list of names to uppercase.\n",
    "\n",
    "names = [\"Alice\", \"Bob\", \"Charlie\", \"David\", \"Eve\"]\n",
    "uppercased_names = map(str.upper, names)\n",
    "uppercased_names_list = list(uppercased_names)\n",
    "print(\"Original names:\", names)\n",
    "print(\"Uppercased names:\", uppercased_names_list)"
   ]
  },
  {
   "cell_type": "code",
   "execution_count": 52,
   "id": "190fba5f-346e-4c98-bef6-a6c98cbca482",
   "metadata": {},
   "outputs": [
    {
     "name": "stdout",
     "output_type": "stream",
     "text": [
      "Original strings: ['apple', 'banana', 'orange', 'kiwi', 'strawberry']\n",
      "Word lengths: [5, 6, 6, 4, 10]\n"
     ]
    }
   ],
   "source": [
    "# 5\n",
    "# Write a Python program that uses the `map()` function to calculate the length of each word in a list of strings.\n",
    "\n",
    "strings = [\"apple\", \"banana\", \"orange\", \"kiwi\", \"strawberry\"]\n",
    "word_lengths = map(len, strings)\n",
    "word_lengths_list = list(word_lengths)\n",
    "print(\"Original strings:\", strings)\n",
    "print(\"Word lengths:\", word_lengths_list)"
   ]
  },
  {
   "cell_type": "code",
   "execution_count": 53,
   "id": "42a8a64b-6cd2-4107-87a3-eff56f48105b",
   "metadata": {},
   "outputs": [
    {
     "name": "stdout",
     "output_type": "stream",
     "text": [
      "List 1: [1, 2, 3, 4, 5]\n",
      "List 2: [10, 20, 30, 40, 50]\n",
      "Result: [11, 22, 33, 44, 55]\n"
     ]
    }
   ],
   "source": [
    "# 6\n",
    "def add_elements(x, y):\n",
    "    return x + y\n",
    "\n",
    "list1 = [1, 2, 3, 4, 5]\n",
    "list2 = [10, 20, 30, 40, 50]\n",
    "result = map(add_elements, list1, list2)\n",
    "result_list = list(result)\n",
    "print(\"List 1:\", list1)\n",
    "print(\"List 2:\", list2)\n",
    "print(\"Result:\", result_list)"
   ]
  },
  {
   "cell_type": "code",
   "execution_count": 54,
   "id": "66f52add-cee5-4de5-8063-33b1e3ed3240",
   "metadata": {},
   "outputs": [
    {
     "name": "stdout",
     "output_type": "stream",
     "text": [
      "Temperatures in Celsius: [0, 10, 20, 30, 40]\n",
      "Temperatures in Fahrenheit: [32.0, 50.0, 68.0, 86.0, 104.0]\n"
     ]
    }
   ],
   "source": [
    "# 7\n",
    "# Create a Python program that uses `map()` to convert a list of temperatures from Celsius to Fahrenheit.\n",
    "\n",
    "def celsius_to_fahrenheit(celsius):\n",
    "    return (celsius * 9/5) + 32\n",
    "\n",
    "temperatures_celsius = [0, 10, 20, 30, 40]\n",
    "temperatures_fahrenheit = map(celsius_to_fahrenheit, temperatures_celsius)\n",
    "temperatures_fahrenheit_list = list(temperatures_fahrenheit)\n",
    "print(\"Temperatures in Celsius:\", temperatures_celsius)\n",
    "print(\"Temperatures in Fahrenheit:\", temperatures_fahrenheit_list)"
   ]
  },
  {
   "cell_type": "code",
   "execution_count": 55,
   "id": "4e54e51d-d58f-4702-8bfd-c27cc29ba19f",
   "metadata": {},
   "outputs": [
    {
     "name": "stdout",
     "output_type": "stream",
     "text": [
      "Original float numbers: [3.14, 2.718, 1.618, 4.669, 0.577]\n",
      "Rounded integers: [3, 3, 2, 5, 1]\n"
     ]
    }
   ],
   "source": [
    "# 8\n",
    "# Write a Python program that uses the `map()` function to round each element of a list of floating-point numbers to the nearest integer.\n",
    "\n",
    "float_numbers = [3.14, 2.718, 1.618, 4.669, 0.577]\n",
    "rounded_integers = map(round, float_numbers)\n",
    "rounded_integers_list = list(rounded_integers)\n",
    "print(\"Original float numbers:\", float_numbers)\n",
    "print(\"Rounded integers:\", rounded_integers_list)"
   ]
  },
  {
   "cell_type": "code",
   "execution_count": 56,
   "id": "8e58b936-0db7-41e8-b977-c45535c2a3a9",
   "metadata": {},
   "outputs": [
    {
     "name": "stdout",
     "output_type": "stream",
     "text": [
      "List of numbers: [1, 2, 3, 4, 5]\n",
      "Sum of numbers: 15\n"
     ]
    }
   ],
   "source": [
    "# reduce function\n",
    "# 1\n",
    "# What is the `reduce()` function in Python, and what module should you import to use it? Provide an example of its basic usage.\n",
    "\n",
    "# The reduce() function in Python is a function from the functools module that is used to apply a function of two arguments\n",
    "# cumulatively to the items of an iterable, from left to right, so as to reduce the iterable to a single value.\n",
    "# To use the reduce() function, you need to import it from the functools module.\n",
    "\n",
    "from functools import reduce\n",
    "numbers = [1, 2, 3, 4, 5]\n",
    "def add(x, y):\n",
    "    return x + y\n",
    "sum_of_numbers = reduce(add, numbers)\n",
    "\n",
    "print(\"List of numbers:\", numbers)\n",
    "print(\"Sum of numbers:\", sum_of_numbers)"
   ]
  },
  {
   "cell_type": "code",
   "execution_count": 57,
   "id": "65f0b1ae-33af-477d-99c8-9fa820773108",
   "metadata": {},
   "outputs": [
    {
     "name": "stdout",
     "output_type": "stream",
     "text": [
      "List of numbers: [1, 2, 3, 4, 5]\n",
      "Product of numbers: 120\n"
     ]
    }
   ],
   "source": [
    "# 2\n",
    "# Write a Python program that uses the `reduce()` function to find the product of all elements in a list.\n",
    "\n",
    "from functools import reduce\n",
    "numbers = [1, 2, 3, 4, 5]\n",
    "def multiply(x, y):\n",
    "    return x * y\n",
    "product_of_numbers = reduce(multiply, numbers)\n",
    "print(\"List of numbers:\", numbers)\n",
    "print(\"Product of numbers:\", product_of_numbers)"
   ]
  },
  {
   "cell_type": "code",
   "execution_count": 58,
   "id": "0718c065-759c-494b-a5cd-32c84d4a30d5",
   "metadata": {},
   "outputs": [
    {
     "name": "stdout",
     "output_type": "stream",
     "text": [
      "List of numbers: [7, 22, 13, 49, 5, 18]\n",
      "Maximum number: 49\n"
     ]
    }
   ],
   "source": [
    "# 3\n",
    "# Create a Python program that uses `reduce()` to find the maximum element in a list of numbers.\n",
    "\n",
    "from functools import reduce\n",
    "numbers = [7, 22, 13, 49, 5, 18]\n",
    "def find_max(x, y):\n",
    "    return x if x > y else y\n",
    "max_number = reduce(find_max, numbers)\n",
    "print(\"List of numbers:\", numbers)\n",
    "print(\"Maximum number:\", max_number)"
   ]
  },
  {
   "cell_type": "code",
   "execution_count": 59,
   "id": "7b8a0a41-07a5-49a7-9920-305ddc4eab1e",
   "metadata": {},
   "outputs": [
    {
     "name": "stdout",
     "output_type": "stream",
     "text": [
      "List of strings: ['Hello', ' ', 'world', '!']\n",
      "Concatenated string: Hello world!\n"
     ]
    }
   ],
   "source": [
    "# 4\n",
    "# How can you use the `reduce()` function to concatenate a list of strings into a single string?\n",
    "\n",
    "from functools import reduce\n",
    "strings = [\"Hello\", \" \", \"world\", \"!\"]\n",
    "def concatenate_strings(x, y):\n",
    "    return x + y\n",
    "concatenated_string = reduce(concatenate_strings, strings)\n",
    "print(\"List of strings:\", strings)\n",
    "print(\"Concatenated string:\", concatenated_string)"
   ]
  },
  {
   "cell_type": "code",
   "execution_count": 60,
   "id": "e90bbba2-4f16-4292-b5aa-c587bbf515d6",
   "metadata": {},
   "outputs": [
    {
     "name": "stdout",
     "output_type": "stream",
     "text": [
      "Factorial of 5 is 120\n"
     ]
    }
   ],
   "source": [
    "# 5\n",
    "# Write a Python program that calculates the factorial of a number using the `reduce()` function.\n",
    "\n",
    "from functools import reduce\n",
    "def factorial(n):\n",
    "    return reduce(lambda x, y: x * y, range(1, n + 1), 1)\n",
    "\n",
    "number = 5\n",
    "result = factorial(number)\n",
    "print(\"Factorial of\", number, \"is\", result)"
   ]
  },
  {
   "cell_type": "code",
   "execution_count": 61,
   "id": "83de5769-2931-4081-9807-4395ec4e9b3a",
   "metadata": {},
   "outputs": [
    {
     "name": "stdout",
     "output_type": "stream",
     "text": [
      "List of numbers: [24, 36, 48, 60]\n",
      "GCD of numbers: 12\n"
     ]
    }
   ],
   "source": [
    "# 6\n",
    "# Create a Python program that uses `reduce()` to find the GCD (Greatest Common Divisor) of a list of numbers.\n",
    "\n",
    "from functools import reduce\n",
    "def gcd(x, y):\n",
    "    while y != 0:\n",
    "        x, y = y, x % y\n",
    "    return x\n",
    "\n",
    "numbers = [24, 36, 48, 60]\n",
    "gcd_of_numbers = reduce(gcd, numbers)\n",
    "print(\"List of numbers:\", numbers)\n",
    "print(\"GCD of numbers:\", gcd_of_numbers)"
   ]
  },
  {
   "cell_type": "code",
   "execution_count": 62,
   "id": "9f6ec3a7-fbc3-498f-b833-d90acb407cc9",
   "metadata": {},
   "outputs": [
    {
     "name": "stdout",
     "output_type": "stream",
     "text": [
      "Given number: 12345\n",
      "Sum of digits: 15\n"
     ]
    }
   ],
   "source": [
    "# 7\n",
    "# Write a Python program that uses the `reduce()` function to find the sum of the digits of a given number.\n",
    "\n",
    "from functools import reduce\n",
    "def sum_of_digits(number):\n",
    "    digits = [int(digit) for digit in str(number)]\n",
    "    return reduce(lambda x, y: x + y, digits)\n",
    "\n",
    "number = 12345\n",
    "sum_of_digits_result = sum_of_digits(number)\n",
    "print(\"Given number:\", number)\n",
    "print(\"Sum of digits:\", sum_of_digits_result)"
   ]
  },
  {
   "cell_type": "code",
   "execution_count": 63,
   "id": "814ce0de-f39c-492b-a6c1-c009b107eaf9",
   "metadata": {},
   "outputs": [
    {
     "name": "stdout",
     "output_type": "stream",
     "text": [
      "Original numbers: [1, 2, 3, 4, 5, 6, 7, 8, 9, 10]\n",
      "Even numbers: [2, 4, 6, 8, 10]\n"
     ]
    }
   ],
   "source": [
    "# Filter function\n",
    "# 1\n",
    "# Explain the purpose of the `filter()` function in Python and provide an example of\n",
    "# how it can be used to filter elements from an iterable.\n",
    "\n",
    "# filter function\n",
    "# The filter() function in Python is used to filter elements from an iterable (such as a list, tuple, or set)\n",
    "# based on a specified condition. It takes two arguments: a function and an iterable. The function passed to \n",
    "# filter() is called for each element of the iterable, and only those elements for which the function returns\n",
    "# True are included in the result.\n",
    "\n",
    "def is_even(x):\n",
    "    return x % 2 == 0\n",
    "numbers = [1, 2, 3, 4, 5, 6, 7, 8, 9, 10]\n",
    "even_numbers = filter(is_even, numbers)\n",
    "even_numbers_list = list(even_numbers)\n",
    "print(\"Original numbers:\", numbers)\n",
    "print(\"Even numbers:\", even_numbers_list)"
   ]
  },
  {
   "cell_type": "code",
   "execution_count": 64,
   "id": "b17c9877-8f70-4a9a-8b28-ba7bb67632fa",
   "metadata": {},
   "outputs": [
    {
     "name": "stdout",
     "output_type": "stream",
     "text": [
      "Original numbers: [1, 2, 3, 4, 5, 6, 7, 8, 9, 10]\n",
      "Even numbers: [2, 4, 6, 8, 10]\n"
     ]
    }
   ],
   "source": [
    "# 2\n",
    "# Write a Python program that uses the `filter()` function to select even numbers from a list of integers.\n",
    "\n",
    "numbers = [1, 2, 3, 4, 5, 6, 7, 8, 9, 10]\n",
    "def is_even(x):\n",
    "    return x % 2 == 0\n",
    "\n",
    "even_numbers = filter(is_even, numbers)\n",
    "even_numbers_list = list(even_numbers)\n",
    "print(\"Original numbers:\", numbers)\n",
    "print(\"Even numbers:\", even_numbers_list)"
   ]
  },
  {
   "cell_type": "code",
   "execution_count": 65,
   "id": "52a5e13c-0575-48b8-ad3e-32b3ee79ae28",
   "metadata": {},
   "outputs": [
    {
     "name": "stdout",
     "output_type": "stream",
     "text": [
      "Original names: ['Alice', 'Bob', 'Charlie', 'David', 'Eve', 'Frank']\n",
      "Names starting with 'C': ['Charlie']\n"
     ]
    }
   ],
   "source": [
    "# 3\n",
    "# Create a Python program that uses the `filter()` function to select names that start with a specific letter from a list of strings.\n",
    "\n",
    "names = [\"Alice\", \"Bob\", \"Charlie\", \"David\", \"Eve\", \"Frank\"]\n",
    "def starts_with_letter(letter):\n",
    "    return lambda name: name.startswith(letter)\n",
    "\n",
    "target_letter = \"C\"\n",
    "filtered_names = filter(starts_with_letter(target_letter), names)\n",
    "filtered_names_list = list(filtered_names)\n",
    "print(\"Original names:\", names)\n",
    "print(f\"Names starting with '{target_letter}':\", filtered_names_list)"
   ]
  },
  {
   "cell_type": "code",
   "execution_count": 66,
   "id": "0e19b654-761c-410b-b486-63726895d920",
   "metadata": {},
   "outputs": [
    {
     "name": "stdout",
     "output_type": "stream",
     "text": [
      "Original numbers: [1, 2, 3, 4, 5, 6, 7, 8, 9, 10]\n",
      "Prime numbers: [2, 3, 5, 7]\n"
     ]
    }
   ],
   "source": [
    "# 4\n",
    "# Write a Python program that uses the `filter()` function to select prime numbers from a list of integers.\n",
    "\n",
    "def is_prime(num):\n",
    "    if num <= 1:\n",
    "        return False\n",
    "    for i in range(2, int(num**0.5) + 1):\n",
    "        if num % i == 0:\n",
    "            return False\n",
    "    return True\n",
    "\n",
    "numbers = [1, 2, 3, 4, 5, 6, 7, 8, 9, 10]\n",
    "prime_numbers = filter(is_prime, numbers)\n",
    "prime_numbers_list = list(prime_numbers)\n",
    "print(\"Original numbers:\", numbers)\n",
    "print(\"Prime numbers:\", prime_numbers_list)"
   ]
  },
  {
   "cell_type": "code",
   "execution_count": 67,
   "id": "9072694e-2b72-42b5-9796-62f618cb16ee",
   "metadata": {},
   "outputs": [
    {
     "name": "stdout",
     "output_type": "stream",
     "text": [
      "Original values: [1, None, 3, None, 5, None, 7, None, 9]\n",
      "Values without None: [1, 3, 5, 7, 9]\n"
     ]
    }
   ],
   "source": [
    "# 5\n",
    "# How can you use the `filter()` function to remove None values from a list in Python?\n",
    "values = [1, None, 3, None, 5, None, 7, None, 9]\n",
    "def remove_none(value):\n",
    "    return value is not None\n",
    "\n",
    "filtered_values = filter(remove_none, values)\n",
    "filtered_values_list = list(filtered_values)\n",
    "print(\"Original values:\", values)\n",
    "print(\"Values without None:\", filtered_values_list)"
   ]
  },
  {
   "cell_type": "code",
   "execution_count": 68,
   "id": "4f432724-63f5-480f-912c-0830db294c2f",
   "metadata": {},
   "outputs": [
    {
     "name": "stdout",
     "output_type": "stream",
     "text": [
      "Original words: ['apple', 'banana', 'orange', 'kiwi', 'strawberry', 'pineapple', 'grapefruit']\n",
      "Words longer than 6 characters: ['strawberry', 'pineapple', 'grapefruit']\n"
     ]
    }
   ],
   "source": [
    "# 6\n",
    "# Create a Python program that uses `filter()` to select words longer than a certain length from a list of strings.\n",
    "\n",
    "words = [\"apple\", \"banana\", \"orange\", \"kiwi\", \"strawberry\", \"pineapple\", \"grapefruit\"]\n",
    "min_length = 6\n",
    "selected_words = filter(lambda word: len(word) > min_length, words)\n",
    "selected_words_list = list(selected_words)\n",
    "print(\"Original words:\", words)\n",
    "print(f\"Words longer than {min_length} characters:\", selected_words_list)"
   ]
  },
  {
   "cell_type": "code",
   "execution_count": 69,
   "id": "e19856e6-1483-4dc2-b32f-0432728df5af",
   "metadata": {},
   "outputs": [
    {
     "name": "stdout",
     "output_type": "stream",
     "text": [
      "Original values: [10, 20, 30, 40, 50, 60, 70]\n",
      "Values greater than 40 : [50, 60, 70]\n"
     ]
    }
   ],
   "source": [
    "# 7\n",
    "# Write a Python program that uses the `filter()` function to select elements greater than a specified threshold from a list of values.\n",
    "\n",
    "values = [10, 20, 30, 40, 50, 60, 70]\n",
    "threshold = 40\n",
    "selected_values = filter(lambda x: x > threshold, values)\n",
    "selected_values_list = list(selected_values)\n",
    "print(\"Original values:\", values)\n",
    "print(\"Values greater than\", threshold, \":\", selected_values_list)"
   ]
  },
  {
   "cell_type": "code",
   "execution_count": 70,
   "id": "1828afbb-fd20-42ff-91c7-17ddc29e35de",
   "metadata": {},
   "outputs": [
    {
     "name": "stdout",
     "output_type": "stream",
     "text": [
      "120\n"
     ]
    }
   ],
   "source": [
    "# Recurrsion\n",
    "# 1\n",
    "# Explain the concept of recursion in Python. How does it differ from iteration?\n",
    "\n",
    "\n",
    "# Recursion is a programming technique where a function calls itself in order to solve a problem.\n",
    "# In recursive solutions, the problem is divided into smaller subproblems, and each subproblem is\n",
    "# solved recursively. This continues until a base case is reached, which is a problem small enough\n",
    "# to be solved directly without further recursion. Recursion is often used to solve problems that\n",
    "# can be broken down into smaller, similar subproblems.\n",
    "# Example\n",
    "def factorial(n):\n",
    "    if n == 0:\n",
    "        return 1\n",
    "    else:\n",
    "        return n * factorial(n - 1)\n",
    "\n",
    "print(factorial(5))"
   ]
  },
  {
   "cell_type": "code",
   "execution_count": 71,
   "id": "875cc1f9-6533-41bb-8943-e52902de81c7",
   "metadata": {},
   "outputs": [
    {
     "name": "stdout",
     "output_type": "stream",
     "text": [
      "120\n"
     ]
    }
   ],
   "source": [
    "# 2\n",
    "# Write a Python program to calculate the factorial of a number using recursion.\n",
    "\n",
    "def factorial(n):\n",
    "    if n == 0:\n",
    "        return 1\n",
    "    else:\n",
    "        return n * factorial(n - 1)\n",
    "\n",
    "print(factorial(5))"
   ]
  },
  {
   "cell_type": "code",
   "execution_count": 72,
   "id": "c062fff9-4617-428f-8ff2-20a401321254",
   "metadata": {},
   "outputs": [
    {
     "name": "stdout",
     "output_type": "stream",
     "text": [
      "Fibonacci(1) = 0\n",
      "Fibonacci(2) = 1\n",
      "Fibonacci(3) = 1\n",
      "Fibonacci(4) = 2\n",
      "Fibonacci(5) = 3\n",
      "Fibonacci(6) = 5\n"
     ]
    }
   ],
   "source": [
    "# 3\n",
    "# Create a recursive Python function to find the nth Fibonacci number.\n",
    "\n",
    "def fibonacci(n):\n",
    "    if n <= 0:\n",
    "        return \"Invalid input. Please provide a positive integer.\"\n",
    "    elif n == 1:\n",
    "        return 0\n",
    "    elif n == 2:\n",
    "        return 1\n",
    "    else:\n",
    "        return fibonacci(n - 1) + fibonacci(n - 2)\n",
    "\n",
    "print(\"Fibonacci(1) =\", fibonacci(1))\n",
    "print(\"Fibonacci(2) =\", fibonacci(2))\n",
    "print(\"Fibonacci(3) =\", fibonacci(3))\n",
    "print(\"Fibonacci(4) =\", fibonacci(4))\n",
    "print(\"Fibonacci(5) =\", fibonacci(5))\n",
    "print(\"Fibonacci(6) =\", fibonacci(6))"
   ]
  },
  {
   "cell_type": "code",
   "execution_count": 73,
   "id": "73564088-ded8-4ed6-8e95-c781de478e58",
   "metadata": {},
   "outputs": [
    {
     "name": "stdout",
     "output_type": "stream",
     "text": [
      "Sum of [1, 2, 3, 4, 5] = 15\n",
      "Sum of [5, 10, 15, 20] = 50\n",
      "Sum of [0, 0, 0, 0, 0] = 0\n",
      "Sum of [] = 0\n"
     ]
    }
   ],
   "source": [
    "# 4\n",
    "# Write a recursive Python function to calculate the sum of all elements in a list.\n",
    "\n",
    "def list_sum(lst):\n",
    "    if not lst:\n",
    "        return 0\n",
    "    else:\n",
    "        return lst[0] + list_sum(lst[1:])\n",
    "\n",
    "print(\"Sum of [1, 2, 3, 4, 5] =\", list_sum([1, 2, 3, 4, 5]))\n",
    "print(\"Sum of [5, 10, 15, 20] =\", list_sum([5, 10, 15, 20]))\n",
    "print(\"Sum of [0, 0, 0, 0, 0] =\", list_sum([0, 0, 0, 0, 0]))\n",
    "print(\"Sum of [] =\", list_sum([]))\n"
   ]
  },
  {
   "cell_type": "code",
   "execution_count": 74,
   "id": "70eb024e-d329-4f43-adda-7acaa3419224",
   "metadata": {},
   "outputs": [],
   "source": [
    "# 5\n",
    "# How can you prevent a recursive function from running indefinitely, causing a stack overflow error?\n",
    "\n",
    "# Base case: Ensure that your recursive function has at least one base case that serves as a stopping condition.\n",
    "# The base case should represent the simplest scenario where the function can return a result without further\n",
    "# recursion. This prevents the function from infinitely recursing.\n",
    "\n",
    "# Ensure progress: Ensure that each recursive call brings the function closer to the base case. In other words,\n",
    "# make sure that the parameters passed to the recursive calls are getting closer to the termination condition.\n",
    "# This guarantees that the recursion will eventually reach the base case."
   ]
  },
  {
   "cell_type": "code",
   "execution_count": 75,
   "id": "bf029fa1-04b0-4eae-9a44-d54598703b96",
   "metadata": {},
   "outputs": [
    {
     "name": "stdout",
     "output_type": "stream",
     "text": [
      "GCD of 48 and 18 is: 6\n",
      "GCD of 1071 and 462 is: 21\n",
      "GCD of 35 and 15 is: 5\n"
     ]
    }
   ],
   "source": [
    "# 5\n",
    "# Create a recursive Python function to find the greatest common divisor (GCD) of two numbers using the Euclidean algorithm.\n",
    "\n",
    "def gcd(a, b):\n",
    "    if b == 0:\n",
    "        return a\n",
    "    else:\n",
    "        return gcd(b, a % b)\n",
    "\n",
    "print(\"GCD of 48 and 18 is:\", gcd(48, 18))\n",
    "print(\"GCD of 1071 and 462 is:\", gcd(1071, 462))\n",
    "print(\"GCD of 35 and 15 is:\", gcd(35, 15))"
   ]
  },
  {
   "cell_type": "code",
   "execution_count": 76,
   "id": "1d08dfd4-f1d6-404e-af2c-aa8201949758",
   "metadata": {},
   "outputs": [
    {
     "name": "stdout",
     "output_type": "stream",
     "text": [
      "olleh\n",
      "nohtyp\n",
      "\n",
      "a\n"
     ]
    }
   ],
   "source": [
    "# 7\n",
    "# Write a recursive Python function to reverse a string.\n",
    "\n",
    "def reverse_string(s):\n",
    "    if len(s) <= 1:\n",
    "        return s\n",
    "    else:\n",
    "        return reverse_string(s[1:]) + s[0]\n",
    "print(reverse_string(\"hello\"))\n",
    "print(reverse_string(\"python\"))\n",
    "print(reverse_string(\"\"))\n",
    "print(reverse_string(\"a\"))"
   ]
  },
  {
   "cell_type": "code",
   "execution_count": 77,
   "id": "aaebb871-8175-4da2-a600-e0153d24fcf8",
   "metadata": {},
   "outputs": [
    {
     "name": "stdout",
     "output_type": "stream",
     "text": [
      "2^3 = 8\n",
      "5^0 = 1\n",
      "3^4 = 81\n"
     ]
    }
   ],
   "source": [
    "# 8\n",
    "# Create a recursive Python function to calculate the power of a number (x^n).\n",
    "\n",
    "def power(x, n):\n",
    "    if n == 0:\n",
    "        return 1\n",
    "    else:\n",
    "        return x * power(x, n - 1)\n",
    "\n",
    "print(\"2^3 =\", power(2, 3))\n",
    "print(\"5^0 =\", power(5, 0))\n",
    "print(\"3^4 =\", power(3, 4))"
   ]
  },
  {
   "cell_type": "code",
   "execution_count": 78,
   "id": "ab934e88-c7c7-48c5-9cf6-0aa46a667a19",
   "metadata": {},
   "outputs": [
    {
     "name": "stdout",
     "output_type": "stream",
     "text": [
      "Permutations of 'abc' are:\n",
      "['abc', 'acb', 'bac', 'bca', 'cab', 'cba']\n"
     ]
    }
   ],
   "source": [
    "# 9\n",
    "# Write a recursive Python function to find all permutations of a given string.\n",
    "\n",
    "def permutations(s):\n",
    "    if len(s) == 1:\n",
    "        return [s]\n",
    "    result = []\n",
    "    for i in range(len(s)):\n",
    "        first_char = s[i]\n",
    "        remaining_chars = s[:i] + s[i+1:]\n",
    "        sub_permutations = permutations(remaining_chars)\n",
    "        for perm in sub_permutations:\n",
    "            result.append(first_char + perm)\n",
    "    return result\n",
    "\n",
    "input_str = \"abc\"\n",
    "print(\"Permutations of '{}' are:\".format(input_str))\n",
    "print(permutations(input_str))"
   ]
  },
  {
   "cell_type": "code",
   "execution_count": 79,
   "id": "91eb5b63-f84a-4371-9844-8807cbb1c193",
   "metadata": {},
   "outputs": [
    {
     "name": "stdout",
     "output_type": "stream",
     "text": [
      "True\n",
      "True\n",
      "False\n"
     ]
    }
   ],
   "source": [
    "# 10\n",
    "# Write a recursive Python function to check if a string is a palindrome.\n",
    "\n",
    "def is_palindrome(s):\n",
    "    if len(s) <= 1:\n",
    "        return True\n",
    "    else:\n",
    "        return s[0] == s[-1] and is_palindrome(s[1:-1])\n",
    "\n",
    "print(is_palindrome(\"radar\"))\n",
    "print(is_palindrome(\"level\"))\n",
    "print(is_palindrome(\"python\"))"
   ]
  },
  {
   "cell_type": "code",
   "execution_count": 80,
   "id": "90d422de-ef42-4723-bf2b-875e2e1d762e",
   "metadata": {},
   "outputs": [
    {
     "name": "stdout",
     "output_type": "stream",
     "text": [
      "Combinations of [1, 2, 3] are:\n",
      "[[1, 2, 3], [1, 3, 2], [2, 1, 3], [2, 3, 1], [3, 1, 2], [3, 2, 1]]\n"
     ]
    }
   ],
   "source": [
    "# 11\n",
    "# Create a recursive Python function to generate all possible combinations of a list of elements.\n",
    "\n",
    "def combinations(lst):\n",
    "    if len(lst) == 1:\n",
    "        return [lst]\n",
    "    result = []\n",
    "    for i in range(len(lst)):\n",
    "        first_element = lst[i]\n",
    "        remaining_elements = lst[:i] + lst[i+1:]\n",
    "        sub_combinations = combinations(remaining_elements)\n",
    "        for comb in sub_combinations:\n",
    "            result.append([first_element] + comb)    \n",
    "    return result\n",
    "\n",
    "input_list = [1, 2, 3]\n",
    "print(\"Combinations of\", input_list, \"are:\")\n",
    "print(combinations(input_list))"
   ]
  },
  {
   "cell_type": "code",
   "execution_count": 81,
   "id": "717167f0-9b92-4520-81b6-f53018b8a0c2",
   "metadata": {},
   "outputs": [],
   "source": [
    "# Basics of functions\n",
    "# 1\n",
    "# What is a function in Python, and why is it used?\n",
    "# In Python, a function is a block of organized, reusable code that performs a specific task.\n",
    "# It groups together a set of statements to perform a specific action and can take input\n",
    "# arguments, perform operations, and optionally return a result.\n",
    "# Functions are used for various purpose. Some of them are listed below :-\n",
    "# Modularity\n",
    "# Code Reusability\n",
    "# Abstraction\n",
    "# Organization\n",
    "# Encapsulation"
   ]
  },
  {
   "cell_type": "code",
   "execution_count": 82,
   "id": "2b8f2e04-fdb1-4b37-9d3b-827b8c8f5927",
   "metadata": {},
   "outputs": [
    {
     "name": "stdout",
     "output_type": "stream",
     "text": [
      "Result of adding 5 and 3: 8\n"
     ]
    }
   ],
   "source": [
    "# 2\n",
    "# How do you define a function in Python? Provide an example.\n",
    "# In Python, you can define a function using the def keyword followed by the function name, a pair of parentheses (),\n",
    "# and a colon :. You can specify parameters inside the parentheses if the function requires input arguments. The\n",
    "# function body is indented and contains the set of statements that define what the function does. Optionally, you\n",
    "# can use the return statement to specify the value that the function should return.\n",
    "\n",
    "def add_numbers(x, y):\n",
    "    \"\"\"\n",
    "    This function adds two numbers and returns the result.\n",
    "    \n",
    "    Parameters:\n",
    "    x (int): The first number.\n",
    "    y (int): The second number.\n",
    "    \n",
    "    Returns:\n",
    "    int: The sum of x and y.\n",
    "    \"\"\"\n",
    "    return x + y\n",
    "\n",
    "result = add_numbers(5, 3)\n",
    "print(\"Result of adding 5 and 3:\", result)\n"
   ]
  },
  {
   "cell_type": "code",
   "execution_count": 83,
   "id": "e5603239-10ef-41e8-b7ab-461bad49a6f1",
   "metadata": {},
   "outputs": [],
   "source": [
    "# 3\n",
    "# Explain the difference between a function definition and a function call.\n",
    "\n",
    "# A function definition is the process of creating a new function in Python.\n",
    "# It involves using the def keyword followed by the function name, specifying\n",
    "# the function parameters (if any) within parentheses, and providing a block\n",
    "# of code that defines what the function does.\n",
    "\n",
    "# A function call is the process of invoking or executing a function that has\n",
    "# been defined elsewhere in the code. It involves using the function name\n",
    "# followed by parentheses, optionally passing arguments (input values) to the\n",
    "# function inside the parentheses."
   ]
  },
  {
   "cell_type": "code",
   "execution_count": 84,
   "id": "92c265a8-647d-44b6-b974-29e561b0d40e",
   "metadata": {},
   "outputs": [
    {
     "name": "stdout",
     "output_type": "stream",
     "text": [
      "Result of adding 5 and 3: 8\n"
     ]
    }
   ],
   "source": [
    "# 4\n",
    "# Write a Python program that defines a function to calculate the sum of two numbers and then calls the function.\n",
    "\n",
    "def calculate_sum(x, y):\n",
    "    \"\"\"\n",
    "    This function calculates the sum of two numbers.\n",
    "    \n",
    "    Parameters:\n",
    "    x (int): The first number.\n",
    "    y (int): The second number.\n",
    "    \n",
    "    Returns:\n",
    "    int: The sum of x and y.\n",
    "    \"\"\"\n",
    "    return x + y\n",
    "\n",
    "result = calculate_sum(5, 3)\n",
    "print(\"Result of adding 5 and 3:\", result)\n"
   ]
  },
  {
   "cell_type": "code",
   "execution_count": 85,
   "id": "21925d6f-b084-447b-8f44-f3058302f3ce",
   "metadata": {},
   "outputs": [],
   "source": [
    "# 5\n",
    "# What is a function signature, and what information does it typically include?\n",
    "# A function signature refers to the information that uniquely identifies a function and specifies its\n",
    "# interface. It typically includes the following information:\n",
    "\n",
    "# Function Name: The name of the function, which uniquely identifies it within the scope of the program.\n",
    "\n",
    "# Parameters: The list of input parameters (also known as arguments) that the function accepts. Each\n",
    "# parameter includes its name and type (although Python is dynamically typed, so the type is not explicitly\n",
    "# specified in the function signature).\n",
    "\n",
    "# Return Type: The type of the value returned by the function, if any. This specifies the data type of the\n",
    "# result that the function produces when it is executed.\n",
    "\n",
    "# Documentation (Docstring): Optional documentation that describes the purpose of the function, its parameters,\n",
    "# return value, and any other relevant information. The docstring typically provides a concise summary of the\n",
    "# function's behavior and usage."
   ]
  },
  {
   "cell_type": "code",
   "execution_count": 86,
   "id": "e39f1a1f-e834-4421-baea-3c4fec75d138",
   "metadata": {},
   "outputs": [
    {
     "name": "stdout",
     "output_type": "stream",
     "text": [
      "Result of multiplying 5 and 3: 15\n"
     ]
    }
   ],
   "source": [
    "# 6\n",
    "# Create a Python function that takes two arguments and returns their product.\n",
    "\n",
    "def multiply(x, y):\n",
    "    return x * y\n",
    "\n",
    "result = multiply(5, 3)\n",
    "print(\"Result of multiplying 5 and 3:\", result)\n"
   ]
  },
  {
   "cell_type": "code",
   "execution_count": 87,
   "id": "5bc4e1b6-23a0-4e7d-b334-2c53d4702351",
   "metadata": {},
   "outputs": [],
   "source": [
    "# Function parameters and arguments\n",
    "# 1\n",
    "# Explain the concepts of formal parameters and actual arguments in Python functions.\n",
    "\n",
    "\n",
    "# In Python functions, the concepts of formal parameters and actual arguments refer to the variables used\n",
    "# in the function definition and the values passed to the function when it is called, respectively.\n",
    "\n",
    "# Formal Parameters:\n",
    "\n",
    "# Formal parameters are placeholders used in the function definition to represent the values that the function\n",
    "# expects to receive when it is called.\n",
    "\n",
    "# Actual Arguments:\n",
    "\n",
    "# Actual arguments, also known as arguments or argument values, are the values passed to a function when it is\n",
    "# called."
   ]
  },
  {
   "cell_type": "code",
   "execution_count": 88,
   "id": "0630ea95-b65d-4df4-ac02-59dcb5c6b531",
   "metadata": {},
   "outputs": [
    {
     "name": "stdout",
     "output_type": "stream",
     "text": [
      "Hello, Guest! You are 30 years old.\n",
      "Hello, Alice! You are 25 years old.\n"
     ]
    }
   ],
   "source": [
    "# 2\n",
    "# Write a Python program that defines a function with default argument values.\n",
    "\n",
    "def greet(name=\"Guest\", age=30):\n",
    "    return f\"Hello, {name}! You are {age} years old.\"\n",
    "\n",
    "print(greet())\n",
    "\n",
    "print(greet(\"Alice\", 25))"
   ]
  },
  {
   "cell_type": "code",
   "execution_count": 89,
   "id": "0ef99a98-4866-409d-a68d-28af84bb3da8",
   "metadata": {},
   "outputs": [
    {
     "name": "stdout",
     "output_type": "stream",
     "text": [
      "Hello, Alice! You are 25 years old.\n"
     ]
    }
   ],
   "source": [
    "# 3\n",
    "# How do you use keyword arguments in Python function calls? Provide an example.\n",
    "\n",
    "def greet(name, age):\n",
    "    return f\"Hello, {name}! You are {age} years old.\"\n",
    "\n",
    "print(greet(name=\"Alice\", age=25))"
   ]
  },
  {
   "cell_type": "code",
   "execution_count": 90,
   "id": "2ac2d794-3dbc-4b96-82ee-520a6f840d90",
   "metadata": {},
   "outputs": [
    {
     "name": "stdout",
     "output_type": "stream",
     "text": [
      "8\n",
      "15\n",
      "12.0\n",
      "10\n",
      "0\n"
     ]
    }
   ],
   "source": [
    "# 4\n",
    "# Create a Python function that accepts a variable number of arguments and calculates their sum.\n",
    "\n",
    "def calculate_sum(*args):\n",
    "    total = 0\n",
    "    for num in args:\n",
    "        total += num\n",
    "    return total\n",
    "\n",
    "print(calculate_sum(5, 3))\n",
    "print(calculate_sum(1, 2, 3, 4, 5))\n",
    "print(calculate_sum(1.5, 2.5, 3.5, 4.5))\n",
    "print(calculate_sum(10))\n",
    "print(calculate_sum())"
   ]
  },
  {
   "cell_type": "code",
   "execution_count": 91,
   "id": "59cac2f4-e0a9-4bb1-91ba-bf0ccb0e12de",
   "metadata": {},
   "outputs": [],
   "source": [
    "# 5\n",
    "# What is the purpose of the `*args` and `**kwargs` syntax in function parameter lists?\n",
    "\n",
    "# *args (Arbitrary Arguments):\n",
    "\n",
    "# The *args syntax allows a function to accept a variable number of positional arguments.\n",
    "# When used in a function definition, *args collects any number of positional arguments into a tuple.\n",
    "\n",
    "# **kwargs (Arbitrary Keyword Arguments):\n",
    "\n",
    "# The **kwargs syntax allows a function to accept a variable number of keyword arguments.\n",
    "# When used in a function definition, **kwargs collects any number of keyword arguments into\n",
    "# a dictionary, where the keys are the argument names and the values are the argument values."
   ]
  },
  {
   "cell_type": "code",
   "execution_count": 92,
   "id": "63dc1af9-1093-46a3-bf2e-2c7a82c800e0",
   "metadata": {},
   "outputs": [
    {
     "name": "stdout",
     "output_type": "stream",
     "text": [
      "Result of adding 3 and 5: 8\n"
     ]
    }
   ],
   "source": [
    "# Return values and Scoping\n",
    "# 1\n",
    "# Describe the role of the `return` statement in Python functions and provide examples.\n",
    "\n",
    "\n",
    "# The role of the return statement can be summarized as follows:\n",
    "# It terminates the execution of a function and returns control to the caller.\n",
    "# It sends the specified value(s) back to the caller as the result of the function.\n",
    "# Example\n",
    "def add(x, y):\n",
    "    return x + y\n",
    "\n",
    "result = add(3, 5)\n",
    "print(\"Result of adding 3 and 5:\", result)"
   ]
  },
  {
   "cell_type": "code",
   "execution_count": 93,
   "id": "3aac5545-2744-49c1-9007-ed6a819ec0e5",
   "metadata": {},
   "outputs": [
    {
     "name": "stdout",
     "output_type": "stream",
     "text": [
      "Inside function: 10\n",
      "Inside function: 30\n",
      "Outside function: 30\n"
     ]
    }
   ],
   "source": [
    "# 2\n",
    "# Explain the concept of variable scope in Python, including local and global variables.\n",
    "\n",
    "# local variables are confined to the function in which they are defined, while global variables\n",
    "# can be accessed and modified from anywhere in the code. Understanding variable scope is essential\n",
    "# for writing maintainable and bug-free code, as it helps prevent unintended side effects and\n",
    "# namespace collisions.\n",
    "\n",
    "def my_function():\n",
    "    x = 10  # Local variable\n",
    "    print(\"Inside function:\", x)\n",
    "\n",
    "my_function()\n",
    "\n",
    "y = 20  # Global variable\n",
    "\n",
    "def my_function():\n",
    "    global y\n",
    "    y = 30  # Modify the global variable\n",
    "    print(\"Inside function:\", y)\n",
    "\n",
    "my_function()\n",
    "print(\"Outside function:\", y)"
   ]
  },
  {
   "cell_type": "code",
   "execution_count": 94,
   "id": "6e6e43d5-df20-488b-9f08-d957a01606d0",
   "metadata": {},
   "outputs": [
    {
     "name": "stdout",
     "output_type": "stream",
     "text": [
      "Inside function: 30\n",
      "Outside function: 30\n"
     ]
    }
   ],
   "source": [
    "# 3\n",
    "# Write a Python program that demonstrates the use of global variables within functions.\n",
    "\n",
    "y = 20  # Global variable\n",
    "def my_function():\n",
    "    global y\n",
    "    y = 30  # Modify the global variable\n",
    "    print(\"Inside function:\", y)\n",
    "\n",
    "my_function()\n",
    "print(\"Outside function:\", y)"
   ]
  },
  {
   "cell_type": "code",
   "execution_count": 95,
   "id": "be6b6468-9ee0-4c33-addb-c28cd9dc392d",
   "metadata": {},
   "outputs": [
    {
     "name": "stdout",
     "output_type": "stream",
     "text": [
      "Factorial of 5 is: 120\n"
     ]
    }
   ],
   "source": [
    "# 4\n",
    "# Create a Python function that calculates the factorial of a number and returns it.\n",
    "\n",
    "def factorial(n):\n",
    "    if n < 0:\n",
    "        return None\n",
    "    result = 1\n",
    "    for i in range(1, n + 1):\n",
    "        result *= i\n",
    "    return result\n",
    "\n",
    "number = 5\n",
    "print(\"Factorial of\", number, \"is:\", factorial(number))"
   ]
  },
  {
   "cell_type": "code",
   "execution_count": 96,
   "id": "3908c723-7810-4efd-b5bc-7c1541863a7f",
   "metadata": {},
   "outputs": [
    {
     "name": "stdout",
     "output_type": "stream",
     "text": [
      "Inside function: 10\n",
      "Outside function: 10\n"
     ]
    }
   ],
   "source": [
    "# 5\n",
    "# How can you access variables defined outside a function from within the function?\n",
    "\n",
    "# You can access variables defined outside a function from within the function by using them directly.\n",
    "# However, it's important to note that when you modify a variable inside a function, Python will create\n",
    "# a new local variable with the same name within the function's scope, unless you explicitly declare the\n",
    "# variable as global.\n",
    "\n",
    "x = 10  # Global variable\n",
    "\n",
    "def my_function():\n",
    "    print(\"Inside function:\", x)\n",
    "\n",
    "my_function()\n",
    "print(\"Outside function:\", x)"
   ]
  },
  {
   "cell_type": "code",
   "execution_count": 97,
   "id": "3eb66553-98e3-4fda-902e-b2004557e87d",
   "metadata": {},
   "outputs": [],
   "source": [
    "# Lambda Functions and Higher-Order Functions:\n",
    "# 1\n",
    "#What are lambda functions in Python, and when are they typically used?\n",
    "\n",
    "\n",
    "# Lambda functions in Python, also known as anonymous functions, are small, inline functions that\n",
    "# do not have a name. They are defined using the lambda keyword and are often used for short, one-\n",
    "# time tasks where a full function definition is unnecessary or cumbersome."
   ]
  },
  {
   "cell_type": "code",
   "execution_count": 98,
   "id": "33619525-a734-4cb5-9e60-e9c55b2fe03c",
   "metadata": {},
   "outputs": [
    {
     "name": "stdout",
     "output_type": "stream",
     "text": [
      "[(1, 'one'), (3, 'three'), (2, 'two')]\n"
     ]
    }
   ],
   "source": [
    "# 2\n",
    "# Write a Python program that uses lambda functions to sort a list of tuples based on the second element.\n",
    "\n",
    "\n",
    "pairs = [(1, 'one'), (3, 'three'), (2, 'two')]\n",
    "sorted_pairs = sorted(pairs, key=lambda x: x[1])\n",
    "print(sorted_pairs)"
   ]
  },
  {
   "cell_type": "code",
   "execution_count": 99,
   "id": "c1a58145-b005-47c4-ba60-681dd7ffac6f",
   "metadata": {},
   "outputs": [
    {
     "name": "stdout",
     "output_type": "stream",
     "text": [
      "Result of addition: 8\n",
      "Result of subtraction: 6\n",
      "Result of multiplication: 14\n"
     ]
    }
   ],
   "source": [
    "# 3\n",
    "# Explain the concept of higher-order functions in Python, and provide an example.\n",
    "\n",
    "#In Python, a higher-order function is a function that takes one or more functions as arguments or returns\n",
    "# a function as its result. In other words, it treats functions as first-class citizens, allowing them to\n",
    "# be passed around and manipulated just like any other data type.\n",
    "\n",
    "def apply_operation(func, x, y):\n",
    "    return func(x, y)\n",
    "\n",
    "def add(x, y):\n",
    "    return x + y\n",
    "\n",
    "def subtract(x, y):\n",
    "    return x - y\n",
    "\n",
    "def multiply(x, y):\n",
    "    return x * y\n",
    "\n",
    "result1 = apply_operation(add, 5, 3)\n",
    "result2 = apply_operation(subtract, 10, 4)\n",
    "result3 = apply_operation(multiply, 7, 2)\n",
    "\n",
    "print(\"Result of addition:\", result1)\n",
    "print(\"Result of subtraction:\", result2)\n",
    "print(\"Result of multiplication:\", result3)\n"
   ]
  },
  {
   "cell_type": "code",
   "execution_count": 100,
   "id": "56f79db7-002f-4c14-b9c3-4dd7606b8623",
   "metadata": {},
   "outputs": [
    {
     "name": "stdout",
     "output_type": "stream",
     "text": [
      "Result after applying square function to each element: [1, 4, 9, 16, 25]\n"
     ]
    }
   ],
   "source": [
    "# 4\n",
    "# Create a Python function that takes a list of numbers and a function as arguments, applying the function to each element in the list.\n",
    "\n",
    "def apply_function_to_list(numbers, func):\n",
    "    result = []\n",
    "    for num in numbers:\n",
    "        result.append(func(num))\n",
    "    return result\n",
    "\n",
    "def square(x):\n",
    "    return x * x\n",
    "numbers = [1, 2, 3, 4, 5]\n",
    "result = apply_function_to_list(numbers, square)\n",
    "print(\"Result after applying square function to each element:\", result)"
   ]
  },
  {
   "cell_type": "code",
   "execution_count": 101,
   "id": "b0d778f7-0c73-46d3-b458-433ed28e00fd",
   "metadata": {},
   "outputs": [
    {
     "name": "stdout",
     "output_type": "stream",
     "text": [
      "5\n",
      "5\n",
      "9\n",
      "Charlie\n",
      "2\n",
      "Alice\n"
     ]
    }
   ],
   "source": [
    "# Built-in Functions:\n",
    "# 1\n",
    "# Describe the role of built-in functions like `len()`, `max()`, and `min()` in Python.\n",
    "\n",
    "# len():\n",
    "\n",
    "# The len() function is used to determine the length of a sequence or collection in Python.\n",
    "# It can be applied to strings, lists, tuples, dictionaries, sets, and other iterable objects.\n",
    "# Example\n",
    "my_string = \"Hello\"\n",
    "print(len(my_string))\n",
    "my_list = [1, 2, 3, 4, 5]\n",
    "print(len(my_list))\n",
    "\n",
    "# max():\n",
    "\n",
    "# The max() function is used to find the maximum value among the elements of a sequence or collection.\n",
    "# It can be applied to numeric types (integers, floats) as well as strings and other comparable objects.\n",
    "# Example\n",
    "numbers = [3, 7, 2, 9, 5]\n",
    "print(max(numbers))  # Output: 9\n",
    "\n",
    "names = [\"Alice\", \"Bob\", \"Charlie\"]\n",
    "print(max(names))  # Output: \"Charlie\"\n",
    "\n",
    "# min():\n",
    "\n",
    "# The min() function is used to find the minimum value among the elements of a sequence or collection.\n",
    "# Similar to max(), it can be applied to numeric types, strings, and other comparable objects.\n",
    "# Example\n",
    "numbers = [3, 7, 2, 9, 5]\n",
    "print(min(numbers))  # Output: 2\n",
    "\n",
    "names = [\"Alice\", \"Bob\", \"Charlie\"]\n",
    "print(min(names))  # Output: \"Alice\""
   ]
  },
  {
   "cell_type": "code",
   "execution_count": 102,
   "id": "b255a520-eefe-4349-80b3-e19e6f06bb71",
   "metadata": {},
   "outputs": [
    {
     "name": "stdout",
     "output_type": "stream",
     "text": [
      "Original numbers: [1, 2, 3, 4, 5]\n",
      "Squared numbers: [1, 4, 9, 16, 25]\n"
     ]
    }
   ],
   "source": [
    "# 2\n",
    "# Write a Python program that uses the `map()` function to apply a function to each element of a list.\n",
    "\n",
    "def square(x):\n",
    "    return x * x\n",
    "\n",
    "numbers = [1, 2, 3, 4, 5]\n",
    "squared_numbers = list(map(square, numbers))\n",
    "print(\"Original numbers:\", numbers)\n",
    "print(\"Squared numbers:\", squared_numbers)"
   ]
  },
  {
   "cell_type": "code",
   "execution_count": 103,
   "id": "aa3525b8-620f-444d-9bf5-14016d6f741e",
   "metadata": {},
   "outputs": [],
   "source": [
    "# 3\n",
    "# How does the `filter()` function work in Python, and when would you use it?\n",
    "\n",
    "# The filter() function in Python is used to filter elements from an iterable (such as a list) based on a specified condition.\n",
    "# It applies a given function to each element of the iterable and returns an iterator containing only the elements for which\n",
    "# the function returns True.\n",
    "\n",
    "# Here's how the filter() function works:\n",
    "\n",
    "# It takes two arguments: a function and an iterable (e.g., a list).\n",
    "# The function argument is a condition that is applied to each element of the iterable.\n",
    "# The function should return True if the element should be included in the result, and False otherwise.\n",
    "# The filter() function returns an iterator containing only the elements for which the function returns True."
   ]
  },
  {
   "cell_type": "code",
   "execution_count": 104,
   "id": "82ee445a-d017-4e4f-9ef8-72ee01e9ff8b",
   "metadata": {},
   "outputs": [
    {
     "name": "stdout",
     "output_type": "stream",
     "text": [
      "Product of all elements: 120\n"
     ]
    }
   ],
   "source": [
    "# 4\n",
    "# Create a Python program that uses the `reduce()` function to find the product of all elements in a list.\n",
    "\n",
    "from functools import reduce\n",
    "\n",
    "numbers = [1, 2, 3, 4, 5]\n",
    "product = reduce(lambda x, y: x * y, numbers)\n",
    "print(\"Product of all elements:\", product)"
   ]
  },
  {
   "cell_type": "code",
   "execution_count": 105,
   "id": "4e09afc9-f03f-47d0-83f1-6cd3dd8366be",
   "metadata": {},
   "outputs": [
    {
     "name": "stdout",
     "output_type": "stream",
     "text": [
      "\n",
      "    Adds two numbers together.\n",
      "\n",
      "    Parameters:\n",
      "    - a (int): The first number.\n",
      "    - b (int): The second number.\n",
      "\n",
      "    Returns:\n",
      "    - sum (int): The sum of a and b.\n",
      "    \n"
     ]
    }
   ],
   "source": [
    "# Function Documentation and Best Practices:\n",
    "# 1\n",
    "# Explain the purpose of docstrings in Python functions and how to write them.\n",
    "\n",
    "# Docstrings, short for documentation strings, are string literals that appear as the first statement\n",
    "# in a module, function, class, or method definition in Python. Their purpose is to provide documentation\n",
    "# and explanation about the purpose, behavior, and usage of the code entity they precede.\n",
    "\n",
    "def add(a, b):\n",
    "    \"\"\"\n",
    "    Adds two numbers together.\n",
    "\n",
    "    Parameters:\n",
    "    - a (int): The first number.\n",
    "    - b (int): The second number.\n",
    "\n",
    "    Returns:\n",
    "    - sum (int): The sum of a and b.\n",
    "    \"\"\"\n",
    "    return a + b\n",
    "print(add.__doc__)"
   ]
  },
  {
   "cell_type": "code",
   "execution_count": 106,
   "id": "bdd7bf5c-1875-424a-ba12-57d8067b19e0",
   "metadata": {},
   "outputs": [],
   "source": [
    "# 2\n",
    "# Describe some best practices for naming functions and variables in Python, including naming conventions and guidelines.\n",
    "\n",
    "# Descriptive Naming\n",
    "# Following Naming Conventions\n",
    "# Consistency is Key\n",
    "# Avoid Single-Letter Names\n",
    "# Meaningful Prefixes and Suffixes\n",
    "# Avoid Reserved Keywords\n",
    "# Verbs for Function Names\n",
    "# Avoid Abbreviations"
   ]
  }
 ],
 "metadata": {
  "kernelspec": {
   "display_name": "Python 3 (ipykernel)",
   "language": "python",
   "name": "python3"
  },
  "language_info": {
   "codemirror_mode": {
    "name": "ipython",
    "version": 3
   },
   "file_extension": ".py",
   "mimetype": "text/x-python",
   "name": "python",
   "nbconvert_exporter": "python",
   "pygments_lexer": "ipython3",
   "version": "3.10.8"
  }
 },
 "nbformat": 4,
 "nbformat_minor": 5
}
